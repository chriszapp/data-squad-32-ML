{
 "cells": [
  {
   "cell_type": "code",
   "execution_count": 11,
   "metadata": {},
   "outputs": [],
   "source": [
    "import pandas as pd\n",
    "import numpy as np\n",
    "import matplotlib.pyplot as plt\n",
    "import seaborn as sns\n",
    "from sklearn.neighbors import KNeighborsRegressor\n",
    "from sklearn.model_selection import train_test_split\n",
    "from sklearn.ensemble import RandomForestRegressor\n",
    "from sklearn.metrics import mean_absolute_error\n",
    "from sklearn.metrics import mean_squared_error\n",
    "from sklearn.metrics import r2_score\n",
    "from sklearn.metrics import mean_absolute_error\n",
    "from sklearn.model_selection import KFold\n",
    "from sklearn.linear_model import LinearRegression"
   ]
  },
  {
   "cell_type": "markdown",
   "metadata": {},
   "source": [
    "## Reasoning behind modelling process "
   ]
  },
  {
   "cell_type": "markdown",
   "metadata": {},
   "source": [
    "After the data cleaning, I got a dataframe with 15 columns, which I still considered a lot comparing to the amount of rows that I had - 1460. So, I decided to do dimensionality reduction using PCA and I reduced the dataset from 15 to 6 columns. I applied three different models to the data: Linear Regression, KNN and Random Forest. The Random Forest Regressor was the one that performed better, with a score of 83%."
   ]
  },
  {
   "cell_type": "code",
   "execution_count": 2,
   "metadata": {},
   "outputs": [],
   "source": [
    "house=pd.read_csv('house_clean.csv',index_col=[0])"
   ]
  },
  {
   "cell_type": "code",
   "execution_count": 3,
   "metadata": {},
   "outputs": [
    {
     "data": {
      "text/html": [
       "<div>\n",
       "<style scoped>\n",
       "    .dataframe tbody tr th:only-of-type {\n",
       "        vertical-align: middle;\n",
       "    }\n",
       "\n",
       "    .dataframe tbody tr th {\n",
       "        vertical-align: top;\n",
       "    }\n",
       "\n",
       "    .dataframe thead th {\n",
       "        text-align: right;\n",
       "    }\n",
       "</style>\n",
       "<table border=\"1\" class=\"dataframe\">\n",
       "  <thead>\n",
       "    <tr style=\"text-align: right;\">\n",
       "      <th></th>\n",
       "      <th>LotFrontage</th>\n",
       "      <th>OverallQual</th>\n",
       "      <th>YearBuilt</th>\n",
       "      <th>YearRemodAdd</th>\n",
       "      <th>MasVnrArea</th>\n",
       "      <th>BsmtFinSF1</th>\n",
       "      <th>TotalBsmtSF</th>\n",
       "      <th>2ndFlrSF</th>\n",
       "      <th>GrLivArea</th>\n",
       "      <th>FullBath</th>\n",
       "      <th>Fireplaces</th>\n",
       "      <th>GarageArea</th>\n",
       "      <th>WoodDeckSF</th>\n",
       "      <th>OpenPorchSF</th>\n",
       "      <th>SalePrice</th>\n",
       "    </tr>\n",
       "  </thead>\n",
       "  <tbody>\n",
       "    <tr>\n",
       "      <th>0</th>\n",
       "      <td>65.0</td>\n",
       "      <td>7</td>\n",
       "      <td>2003</td>\n",
       "      <td>2003</td>\n",
       "      <td>196.0</td>\n",
       "      <td>706</td>\n",
       "      <td>856</td>\n",
       "      <td>854</td>\n",
       "      <td>1710</td>\n",
       "      <td>2</td>\n",
       "      <td>0</td>\n",
       "      <td>548</td>\n",
       "      <td>0</td>\n",
       "      <td>61</td>\n",
       "      <td>208500</td>\n",
       "    </tr>\n",
       "    <tr>\n",
       "      <th>1</th>\n",
       "      <td>80.0</td>\n",
       "      <td>6</td>\n",
       "      <td>1976</td>\n",
       "      <td>1976</td>\n",
       "      <td>0.0</td>\n",
       "      <td>978</td>\n",
       "      <td>1262</td>\n",
       "      <td>0</td>\n",
       "      <td>1262</td>\n",
       "      <td>2</td>\n",
       "      <td>1</td>\n",
       "      <td>460</td>\n",
       "      <td>298</td>\n",
       "      <td>0</td>\n",
       "      <td>181500</td>\n",
       "    </tr>\n",
       "    <tr>\n",
       "      <th>2</th>\n",
       "      <td>68.0</td>\n",
       "      <td>7</td>\n",
       "      <td>2001</td>\n",
       "      <td>2002</td>\n",
       "      <td>162.0</td>\n",
       "      <td>486</td>\n",
       "      <td>920</td>\n",
       "      <td>866</td>\n",
       "      <td>1786</td>\n",
       "      <td>2</td>\n",
       "      <td>1</td>\n",
       "      <td>608</td>\n",
       "      <td>0</td>\n",
       "      <td>42</td>\n",
       "      <td>223500</td>\n",
       "    </tr>\n",
       "    <tr>\n",
       "      <th>3</th>\n",
       "      <td>60.0</td>\n",
       "      <td>7</td>\n",
       "      <td>1915</td>\n",
       "      <td>1970</td>\n",
       "      <td>0.0</td>\n",
       "      <td>216</td>\n",
       "      <td>756</td>\n",
       "      <td>756</td>\n",
       "      <td>1717</td>\n",
       "      <td>1</td>\n",
       "      <td>1</td>\n",
       "      <td>642</td>\n",
       "      <td>0</td>\n",
       "      <td>35</td>\n",
       "      <td>140000</td>\n",
       "    </tr>\n",
       "    <tr>\n",
       "      <th>4</th>\n",
       "      <td>84.0</td>\n",
       "      <td>8</td>\n",
       "      <td>2000</td>\n",
       "      <td>2000</td>\n",
       "      <td>350.0</td>\n",
       "      <td>655</td>\n",
       "      <td>1145</td>\n",
       "      <td>1053</td>\n",
       "      <td>2198</td>\n",
       "      <td>2</td>\n",
       "      <td>1</td>\n",
       "      <td>836</td>\n",
       "      <td>192</td>\n",
       "      <td>84</td>\n",
       "      <td>250000</td>\n",
       "    </tr>\n",
       "    <tr>\n",
       "      <th>...</th>\n",
       "      <td>...</td>\n",
       "      <td>...</td>\n",
       "      <td>...</td>\n",
       "      <td>...</td>\n",
       "      <td>...</td>\n",
       "      <td>...</td>\n",
       "      <td>...</td>\n",
       "      <td>...</td>\n",
       "      <td>...</td>\n",
       "      <td>...</td>\n",
       "      <td>...</td>\n",
       "      <td>...</td>\n",
       "      <td>...</td>\n",
       "      <td>...</td>\n",
       "      <td>...</td>\n",
       "    </tr>\n",
       "    <tr>\n",
       "      <th>1455</th>\n",
       "      <td>62.0</td>\n",
       "      <td>6</td>\n",
       "      <td>1999</td>\n",
       "      <td>2000</td>\n",
       "      <td>0.0</td>\n",
       "      <td>0</td>\n",
       "      <td>953</td>\n",
       "      <td>694</td>\n",
       "      <td>1647</td>\n",
       "      <td>2</td>\n",
       "      <td>1</td>\n",
       "      <td>460</td>\n",
       "      <td>0</td>\n",
       "      <td>40</td>\n",
       "      <td>175000</td>\n",
       "    </tr>\n",
       "    <tr>\n",
       "      <th>1456</th>\n",
       "      <td>85.0</td>\n",
       "      <td>6</td>\n",
       "      <td>1978</td>\n",
       "      <td>1988</td>\n",
       "      <td>119.0</td>\n",
       "      <td>790</td>\n",
       "      <td>1542</td>\n",
       "      <td>0</td>\n",
       "      <td>2073</td>\n",
       "      <td>2</td>\n",
       "      <td>2</td>\n",
       "      <td>500</td>\n",
       "      <td>349</td>\n",
       "      <td>0</td>\n",
       "      <td>210000</td>\n",
       "    </tr>\n",
       "    <tr>\n",
       "      <th>1457</th>\n",
       "      <td>66.0</td>\n",
       "      <td>7</td>\n",
       "      <td>1941</td>\n",
       "      <td>2006</td>\n",
       "      <td>0.0</td>\n",
       "      <td>275</td>\n",
       "      <td>1152</td>\n",
       "      <td>1152</td>\n",
       "      <td>2340</td>\n",
       "      <td>2</td>\n",
       "      <td>2</td>\n",
       "      <td>252</td>\n",
       "      <td>0</td>\n",
       "      <td>60</td>\n",
       "      <td>266500</td>\n",
       "    </tr>\n",
       "    <tr>\n",
       "      <th>1458</th>\n",
       "      <td>68.0</td>\n",
       "      <td>5</td>\n",
       "      <td>1950</td>\n",
       "      <td>1996</td>\n",
       "      <td>0.0</td>\n",
       "      <td>49</td>\n",
       "      <td>1078</td>\n",
       "      <td>0</td>\n",
       "      <td>1078</td>\n",
       "      <td>1</td>\n",
       "      <td>0</td>\n",
       "      <td>240</td>\n",
       "      <td>366</td>\n",
       "      <td>0</td>\n",
       "      <td>142125</td>\n",
       "    </tr>\n",
       "    <tr>\n",
       "      <th>1459</th>\n",
       "      <td>75.0</td>\n",
       "      <td>5</td>\n",
       "      <td>1965</td>\n",
       "      <td>1965</td>\n",
       "      <td>0.0</td>\n",
       "      <td>830</td>\n",
       "      <td>1256</td>\n",
       "      <td>0</td>\n",
       "      <td>1256</td>\n",
       "      <td>1</td>\n",
       "      <td>0</td>\n",
       "      <td>276</td>\n",
       "      <td>736</td>\n",
       "      <td>68</td>\n",
       "      <td>147500</td>\n",
       "    </tr>\n",
       "  </tbody>\n",
       "</table>\n",
       "<p>1460 rows × 15 columns</p>\n",
       "</div>"
      ],
      "text/plain": [
       "      LotFrontage  OverallQual  YearBuilt  YearRemodAdd  MasVnrArea  \\\n",
       "0            65.0            7       2003          2003       196.0   \n",
       "1            80.0            6       1976          1976         0.0   \n",
       "2            68.0            7       2001          2002       162.0   \n",
       "3            60.0            7       1915          1970         0.0   \n",
       "4            84.0            8       2000          2000       350.0   \n",
       "...           ...          ...        ...           ...         ...   \n",
       "1455         62.0            6       1999          2000         0.0   \n",
       "1456         85.0            6       1978          1988       119.0   \n",
       "1457         66.0            7       1941          2006         0.0   \n",
       "1458         68.0            5       1950          1996         0.0   \n",
       "1459         75.0            5       1965          1965         0.0   \n",
       "\n",
       "      BsmtFinSF1  TotalBsmtSF  2ndFlrSF  GrLivArea  FullBath  Fireplaces  \\\n",
       "0            706          856       854       1710         2           0   \n",
       "1            978         1262         0       1262         2           1   \n",
       "2            486          920       866       1786         2           1   \n",
       "3            216          756       756       1717         1           1   \n",
       "4            655         1145      1053       2198         2           1   \n",
       "...          ...          ...       ...        ...       ...         ...   \n",
       "1455           0          953       694       1647         2           1   \n",
       "1456         790         1542         0       2073         2           2   \n",
       "1457         275         1152      1152       2340         2           2   \n",
       "1458          49         1078         0       1078         1           0   \n",
       "1459         830         1256         0       1256         1           0   \n",
       "\n",
       "      GarageArea  WoodDeckSF  OpenPorchSF  SalePrice  \n",
       "0            548           0           61     208500  \n",
       "1            460         298            0     181500  \n",
       "2            608           0           42     223500  \n",
       "3            642           0           35     140000  \n",
       "4            836         192           84     250000  \n",
       "...          ...         ...          ...        ...  \n",
       "1455         460           0           40     175000  \n",
       "1456         500         349            0     210000  \n",
       "1457         252           0           60     266500  \n",
       "1458         240         366            0     142125  \n",
       "1459         276         736           68     147500  \n",
       "\n",
       "[1460 rows x 15 columns]"
      ]
     },
     "execution_count": 3,
     "metadata": {},
     "output_type": "execute_result"
    }
   ],
   "source": [
    "house"
   ]
  },
  {
   "cell_type": "markdown",
   "metadata": {},
   "source": [
    "### Dimensionality Reduction"
   ]
  },
  {
   "cell_type": "code",
   "execution_count": 4,
   "metadata": {},
   "outputs": [],
   "source": [
    "from sklearn.preprocessing import StandardScaler\n",
    "\n",
    "features = list((house.drop(['SalePrice'],axis=1)).columns)\n",
    "# Separating out the features\n",
    "x = house.loc[:, features].values\n",
    "# Separating out the target\n",
    "y = house.loc[:,['SalePrice']].values\n",
    "# Standardizing the features\n",
    "x = StandardScaler().fit_transform(x)"
   ]
  },
  {
   "cell_type": "code",
   "execution_count": 5,
   "metadata": {},
   "outputs": [],
   "source": [
    "from sklearn.decomposition import PCA\n",
    "pca = PCA(n_components=7)\n",
    "principalComponents = pca.fit_transform(x)\n",
    "df = pd.DataFrame(data = principalComponents)"
   ]
  },
  {
   "cell_type": "code",
   "execution_count": 6,
   "metadata": {},
   "outputs": [
    {
     "data": {
      "text/html": [
       "<div>\n",
       "<style scoped>\n",
       "    .dataframe tbody tr th:only-of-type {\n",
       "        vertical-align: middle;\n",
       "    }\n",
       "\n",
       "    .dataframe tbody tr th {\n",
       "        vertical-align: top;\n",
       "    }\n",
       "\n",
       "    .dataframe thead th {\n",
       "        text-align: right;\n",
       "    }\n",
       "</style>\n",
       "<table border=\"1\" class=\"dataframe\">\n",
       "  <thead>\n",
       "    <tr style=\"text-align: right;\">\n",
       "      <th></th>\n",
       "      <th>0</th>\n",
       "      <th>1</th>\n",
       "      <th>2</th>\n",
       "      <th>3</th>\n",
       "      <th>4</th>\n",
       "      <th>5</th>\n",
       "      <th>6</th>\n",
       "    </tr>\n",
       "  </thead>\n",
       "  <tbody>\n",
       "    <tr>\n",
       "      <th>0</th>\n",
       "      <td>1.310511</td>\n",
       "      <td>-0.705548</td>\n",
       "      <td>-1.177242</td>\n",
       "      <td>0.663505</td>\n",
       "      <td>-0.134083</td>\n",
       "      <td>0.782361</td>\n",
       "      <td>0.572019</td>\n",
       "    </tr>\n",
       "    <tr>\n",
       "      <th>1</th>\n",
       "      <td>0.405368</td>\n",
       "      <td>1.346523</td>\n",
       "      <td>0.615490</td>\n",
       "      <td>-0.651538</td>\n",
       "      <td>-0.844336</td>\n",
       "      <td>-1.421377</td>\n",
       "      <td>-0.483167</td>\n",
       "    </tr>\n",
       "    <tr>\n",
       "      <th>2</th>\n",
       "      <td>1.643911</td>\n",
       "      <td>-0.938837</td>\n",
       "      <td>-0.595476</td>\n",
       "      <td>0.381379</td>\n",
       "      <td>-0.205338</td>\n",
       "      <td>0.768455</td>\n",
       "      <td>-0.616125</td>\n",
       "    </tr>\n",
       "    <tr>\n",
       "      <th>3</th>\n",
       "      <td>-0.738011</td>\n",
       "      <td>-1.393472</td>\n",
       "      <td>1.360100</td>\n",
       "      <td>0.342063</td>\n",
       "      <td>0.157586</td>\n",
       "      <td>0.170205</td>\n",
       "      <td>-0.592276</td>\n",
       "    </tr>\n",
       "    <tr>\n",
       "      <th>4</th>\n",
       "      <td>3.511316</td>\n",
       "      <td>-0.884654</td>\n",
       "      <td>0.147213</td>\n",
       "      <td>0.084221</td>\n",
       "      <td>-0.641032</td>\n",
       "      <td>0.157369</td>\n",
       "      <td>0.674390</td>\n",
       "    </tr>\n",
       "    <tr>\n",
       "      <th>...</th>\n",
       "      <td>...</td>\n",
       "      <td>...</td>\n",
       "      <td>...</td>\n",
       "      <td>...</td>\n",
       "      <td>...</td>\n",
       "      <td>...</td>\n",
       "      <td>...</td>\n",
       "    </tr>\n",
       "    <tr>\n",
       "      <th>1455</th>\n",
       "      <td>0.505868</td>\n",
       "      <td>-1.178490</td>\n",
       "      <td>-1.036238</td>\n",
       "      <td>0.359727</td>\n",
       "      <td>0.033265</td>\n",
       "      <td>0.208103</td>\n",
       "      <td>-1.155300</td>\n",
       "    </tr>\n",
       "    <tr>\n",
       "      <th>1456</th>\n",
       "      <td>1.919921</td>\n",
       "      <td>0.973880</td>\n",
       "      <td>1.473927</td>\n",
       "      <td>-1.050000</td>\n",
       "      <td>-1.030648</td>\n",
       "      <td>-1.415937</td>\n",
       "      <td>-1.148421</td>\n",
       "    </tr>\n",
       "    <tr>\n",
       "      <th>1457</th>\n",
       "      <td>1.308575</td>\n",
       "      <td>-2.484465</td>\n",
       "      <td>1.023856</td>\n",
       "      <td>-0.021663</td>\n",
       "      <td>0.598758</td>\n",
       "      <td>-0.141589</td>\n",
       "      <td>-2.035107</td>\n",
       "    </tr>\n",
       "    <tr>\n",
       "      <th>1458</th>\n",
       "      <td>-1.720921</td>\n",
       "      <td>0.725628</td>\n",
       "      <td>-0.530656</td>\n",
       "      <td>-0.721423</td>\n",
       "      <td>-1.139891</td>\n",
       "      <td>-2.059355</td>\n",
       "      <td>0.645873</td>\n",
       "    </tr>\n",
       "    <tr>\n",
       "      <th>1459</th>\n",
       "      <td>-0.634273</td>\n",
       "      <td>1.697908</td>\n",
       "      <td>0.855950</td>\n",
       "      <td>-2.181102</td>\n",
       "      <td>-1.084098</td>\n",
       "      <td>-4.072393</td>\n",
       "      <td>2.304192</td>\n",
       "    </tr>\n",
       "  </tbody>\n",
       "</table>\n",
       "<p>1460 rows × 7 columns</p>\n",
       "</div>"
      ],
      "text/plain": [
       "             0         1         2         3         4         5         6\n",
       "0     1.310511 -0.705548 -1.177242  0.663505 -0.134083  0.782361  0.572019\n",
       "1     0.405368  1.346523  0.615490 -0.651538 -0.844336 -1.421377 -0.483167\n",
       "2     1.643911 -0.938837 -0.595476  0.381379 -0.205338  0.768455 -0.616125\n",
       "3    -0.738011 -1.393472  1.360100  0.342063  0.157586  0.170205 -0.592276\n",
       "4     3.511316 -0.884654  0.147213  0.084221 -0.641032  0.157369  0.674390\n",
       "...        ...       ...       ...       ...       ...       ...       ...\n",
       "1455  0.505868 -1.178490 -1.036238  0.359727  0.033265  0.208103 -1.155300\n",
       "1456  1.919921  0.973880  1.473927 -1.050000 -1.030648 -1.415937 -1.148421\n",
       "1457  1.308575 -2.484465  1.023856 -0.021663  0.598758 -0.141589 -2.035107\n",
       "1458 -1.720921  0.725628 -0.530656 -0.721423 -1.139891 -2.059355  0.645873\n",
       "1459 -0.634273  1.697908  0.855950 -2.181102 -1.084098 -4.072393  2.304192\n",
       "\n",
       "[1460 rows x 7 columns]"
      ]
     },
     "execution_count": 6,
     "metadata": {},
     "output_type": "execute_result"
    }
   ],
   "source": [
    "df"
   ]
  },
  {
   "cell_type": "code",
   "execution_count": 7,
   "metadata": {},
   "outputs": [],
   "source": [
    "totaldf = pd.concat([df, house[['SalePrice']]], axis = 1)"
   ]
  },
  {
   "cell_type": "code",
   "execution_count": 8,
   "metadata": {},
   "outputs": [
    {
     "data": {
      "text/html": [
       "<div>\n",
       "<style scoped>\n",
       "    .dataframe tbody tr th:only-of-type {\n",
       "        vertical-align: middle;\n",
       "    }\n",
       "\n",
       "    .dataframe tbody tr th {\n",
       "        vertical-align: top;\n",
       "    }\n",
       "\n",
       "    .dataframe thead th {\n",
       "        text-align: right;\n",
       "    }\n",
       "</style>\n",
       "<table border=\"1\" class=\"dataframe\">\n",
       "  <thead>\n",
       "    <tr style=\"text-align: right;\">\n",
       "      <th></th>\n",
       "      <th>0</th>\n",
       "      <th>1</th>\n",
       "      <th>2</th>\n",
       "      <th>3</th>\n",
       "      <th>4</th>\n",
       "      <th>5</th>\n",
       "      <th>6</th>\n",
       "      <th>SalePrice</th>\n",
       "    </tr>\n",
       "  </thead>\n",
       "  <tbody>\n",
       "    <tr>\n",
       "      <th>0</th>\n",
       "      <td>1.310511</td>\n",
       "      <td>-0.705548</td>\n",
       "      <td>-1.177242</td>\n",
       "      <td>0.663505</td>\n",
       "      <td>-0.134083</td>\n",
       "      <td>0.782361</td>\n",
       "      <td>0.572019</td>\n",
       "      <td>208500</td>\n",
       "    </tr>\n",
       "    <tr>\n",
       "      <th>1</th>\n",
       "      <td>0.405368</td>\n",
       "      <td>1.346523</td>\n",
       "      <td>0.615490</td>\n",
       "      <td>-0.651538</td>\n",
       "      <td>-0.844336</td>\n",
       "      <td>-1.421377</td>\n",
       "      <td>-0.483167</td>\n",
       "      <td>181500</td>\n",
       "    </tr>\n",
       "    <tr>\n",
       "      <th>2</th>\n",
       "      <td>1.643911</td>\n",
       "      <td>-0.938837</td>\n",
       "      <td>-0.595476</td>\n",
       "      <td>0.381379</td>\n",
       "      <td>-0.205338</td>\n",
       "      <td>0.768455</td>\n",
       "      <td>-0.616125</td>\n",
       "      <td>223500</td>\n",
       "    </tr>\n",
       "    <tr>\n",
       "      <th>3</th>\n",
       "      <td>-0.738011</td>\n",
       "      <td>-1.393472</td>\n",
       "      <td>1.360100</td>\n",
       "      <td>0.342063</td>\n",
       "      <td>0.157586</td>\n",
       "      <td>0.170205</td>\n",
       "      <td>-0.592276</td>\n",
       "      <td>140000</td>\n",
       "    </tr>\n",
       "    <tr>\n",
       "      <th>4</th>\n",
       "      <td>3.511316</td>\n",
       "      <td>-0.884654</td>\n",
       "      <td>0.147213</td>\n",
       "      <td>0.084221</td>\n",
       "      <td>-0.641032</td>\n",
       "      <td>0.157369</td>\n",
       "      <td>0.674390</td>\n",
       "      <td>250000</td>\n",
       "    </tr>\n",
       "    <tr>\n",
       "      <th>...</th>\n",
       "      <td>...</td>\n",
       "      <td>...</td>\n",
       "      <td>...</td>\n",
       "      <td>...</td>\n",
       "      <td>...</td>\n",
       "      <td>...</td>\n",
       "      <td>...</td>\n",
       "      <td>...</td>\n",
       "    </tr>\n",
       "    <tr>\n",
       "      <th>1455</th>\n",
       "      <td>0.505868</td>\n",
       "      <td>-1.178490</td>\n",
       "      <td>-1.036238</td>\n",
       "      <td>0.359727</td>\n",
       "      <td>0.033265</td>\n",
       "      <td>0.208103</td>\n",
       "      <td>-1.155300</td>\n",
       "      <td>175000</td>\n",
       "    </tr>\n",
       "    <tr>\n",
       "      <th>1456</th>\n",
       "      <td>1.919921</td>\n",
       "      <td>0.973880</td>\n",
       "      <td>1.473927</td>\n",
       "      <td>-1.050000</td>\n",
       "      <td>-1.030648</td>\n",
       "      <td>-1.415937</td>\n",
       "      <td>-1.148421</td>\n",
       "      <td>210000</td>\n",
       "    </tr>\n",
       "    <tr>\n",
       "      <th>1457</th>\n",
       "      <td>1.308575</td>\n",
       "      <td>-2.484465</td>\n",
       "      <td>1.023856</td>\n",
       "      <td>-0.021663</td>\n",
       "      <td>0.598758</td>\n",
       "      <td>-0.141589</td>\n",
       "      <td>-2.035107</td>\n",
       "      <td>266500</td>\n",
       "    </tr>\n",
       "    <tr>\n",
       "      <th>1458</th>\n",
       "      <td>-1.720921</td>\n",
       "      <td>0.725628</td>\n",
       "      <td>-0.530656</td>\n",
       "      <td>-0.721423</td>\n",
       "      <td>-1.139891</td>\n",
       "      <td>-2.059355</td>\n",
       "      <td>0.645873</td>\n",
       "      <td>142125</td>\n",
       "    </tr>\n",
       "    <tr>\n",
       "      <th>1459</th>\n",
       "      <td>-0.634273</td>\n",
       "      <td>1.697908</td>\n",
       "      <td>0.855950</td>\n",
       "      <td>-2.181102</td>\n",
       "      <td>-1.084098</td>\n",
       "      <td>-4.072393</td>\n",
       "      <td>2.304192</td>\n",
       "      <td>147500</td>\n",
       "    </tr>\n",
       "  </tbody>\n",
       "</table>\n",
       "<p>1460 rows × 8 columns</p>\n",
       "</div>"
      ],
      "text/plain": [
       "             0         1         2         3         4         5         6  \\\n",
       "0     1.310511 -0.705548 -1.177242  0.663505 -0.134083  0.782361  0.572019   \n",
       "1     0.405368  1.346523  0.615490 -0.651538 -0.844336 -1.421377 -0.483167   \n",
       "2     1.643911 -0.938837 -0.595476  0.381379 -0.205338  0.768455 -0.616125   \n",
       "3    -0.738011 -1.393472  1.360100  0.342063  0.157586  0.170205 -0.592276   \n",
       "4     3.511316 -0.884654  0.147213  0.084221 -0.641032  0.157369  0.674390   \n",
       "...        ...       ...       ...       ...       ...       ...       ...   \n",
       "1455  0.505868 -1.178490 -1.036238  0.359727  0.033265  0.208103 -1.155300   \n",
       "1456  1.919921  0.973880  1.473927 -1.050000 -1.030648 -1.415937 -1.148421   \n",
       "1457  1.308575 -2.484465  1.023856 -0.021663  0.598758 -0.141589 -2.035107   \n",
       "1458 -1.720921  0.725628 -0.530656 -0.721423 -1.139891 -2.059355  0.645873   \n",
       "1459 -0.634273  1.697908  0.855950 -2.181102 -1.084098 -4.072393  2.304192   \n",
       "\n",
       "      SalePrice  \n",
       "0        208500  \n",
       "1        181500  \n",
       "2        223500  \n",
       "3        140000  \n",
       "4        250000  \n",
       "...         ...  \n",
       "1455     175000  \n",
       "1456     210000  \n",
       "1457     266500  \n",
       "1458     142125  \n",
       "1459     147500  \n",
       "\n",
       "[1460 rows x 8 columns]"
      ]
     },
     "execution_count": 8,
     "metadata": {},
     "output_type": "execute_result"
    }
   ],
   "source": [
    "totaldf"
   ]
  },
  {
   "cell_type": "markdown",
   "metadata": {},
   "source": [
    "### Train_test_split"
   ]
  },
  {
   "cell_type": "code",
   "execution_count": 9,
   "metadata": {},
   "outputs": [],
   "source": [
    "X=totaldf.drop(['SalePrice'],axis=1)\n",
    "y=totaldf['SalePrice']\n",
    "X_train,X_test,y_train,y_test = train_test_split(X,y,test_size = 0.2)"
   ]
  },
  {
   "cell_type": "markdown",
   "metadata": {},
   "source": [
    "### Linear Regression"
   ]
  },
  {
   "cell_type": "code",
   "execution_count": 15,
   "metadata": {},
   "outputs": [
    {
     "data": {
      "text/plain": [
       "<matplotlib.axes._subplots.AxesSubplot at 0x256e2f264c8>"
      ]
     },
     "execution_count": 15,
     "metadata": {},
     "output_type": "execute_result"
    },
    {
     "data": {
      "image/png": "[encoded data removed]",
      "text/plain": [
       "<Figure size 432x288 with 1 Axes>"
      ]
     },
     "metadata": {
      "needs_background": "light"
     },
     "output_type": "display_data"
    }
   ],
   "source": [
    "regr = LinearRegression()\n",
    "model = regr.fit(X_train, y_train)\n",
    "y_pred=model.predict(X_test)\n",
    "sns.regplot(y_test,y_pred)"
   ]
  },
  {
   "cell_type": "code",
   "execution_count": 20,
   "metadata": {},
   "outputs": [
    {
     "name": "stdout",
     "output_type": "stream",
     "text": [
      "MAE: 22127.841827518943\n",
      "MSE: 2019401699.1093516\n",
      "R2Score: 0.5740639581642333 \n",
      "\n"
     ]
    }
   ],
   "source": [
    "print('MAE:',mean_absolute_error(y_test,y_pred))\n",
    "print('MSE:', mean_squared_error(y_test, y_pred))\n",
    "print('R2Score:', r2_score(y_test, y_pred), '\\n')"
   ]
  },
  {
   "cell_type": "markdown",
   "metadata": {},
   "source": [
    "### RFR"
   ]
  },
  {
   "cell_type": "code",
   "execution_count": 34,
   "metadata": {},
   "outputs": [],
   "source": [
    "train=[]\n",
    "test=[]\n",
    "for i in range(1,20):\n",
    "    regr = RandomForestRegressor(max_depth=i)\n",
    "    regr.fit(X_train, y_train)\n",
    "    train.append(regr.score(X_train,y_train))\n",
    "    test.append(regr.score(X_test,y_test))"
   ]
  },
  {
   "cell_type": "code",
   "execution_count": 66,
   "metadata": {},
   "outputs": [
    {
     "data": {
      "text/plain": [
       "[<matplotlib.lines.Line2D at 0x20aca7eb788>]"
      ]
     },
     "execution_count": 66,
     "metadata": {},
     "output_type": "execute_result"
    },
    {
     "data": {
      "image/png": "[encoded data removed]",
      "text/plain": [
       "<Figure size 432x288 with 1 Axes>"
      ]
     },
     "metadata": {
      "needs_background": "light"
     },
     "output_type": "display_data"
    }
   ],
   "source": [
    "plt.plot(range(1,20),train)\n",
    "plt.plot(range(1,20),test)"
   ]
  },
  {
   "cell_type": "markdown",
   "metadata": {},
   "source": [
    "### KNN"
   ]
  },
  {
   "cell_type": "code",
   "execution_count": 65,
   "metadata": {},
   "outputs": [
    {
     "name": "stdout",
     "output_type": "stream",
     "text": [
      "MAE: 22781.943493150684\n",
      "MSE: 1618191035.1686645\n",
      "R2Score: 0.7252725806717248 \n",
      "\n",
      "MAE: 22189.89383561644\n",
      "MSE: 1541283699.7355406\n",
      "R2Score: 0.738329477744915 \n",
      "\n",
      "MAE: 22191.967465753423\n",
      "MSE: 1652369355.5059931\n",
      "R2Score: 0.719469976690378 \n",
      "\n",
      "MAE: 21899.471232876713\n",
      "MSE: 1543093046.6594522\n",
      "R2Score: 0.7380222969484127 \n",
      "\n"
     ]
    }
   ],
   "source": [
    "for i in range(2,6):\n",
    "    knnr = KNeighborsRegressor(n_neighbors = i)\n",
    "    model = knnr.fit(X_train, y_train)\n",
    "    y_pred = knnr.predict(X_test)\n",
    "    print('MAE:',mean_absolute_error(y_test,y_pred))\n",
    "    print('MSE:', mean_squared_error(y_test, y_pred))\n",
    "    print('R2Score:', r2_score(y_test, y_pred), '\\n')"
   ]
  },
  {
   "cell_type": "code",
   "execution_count": 70,
   "metadata": {},
   "outputs": [
    {
     "data": {
      "text/plain": [
       "<matplotlib.axes._subplots.AxesSubplot at 0x20ac963a688>"
      ]
     },
     "execution_count": 70,
     "metadata": {},
     "output_type": "execute_result"
    },
    {
     "data": {
      "image/png": "[encoded data removed]",
      "text/plain": [
       "<Figure size 432x288 with 1 Axes>"
      ]
     },
     "metadata": {
      "needs_background": "light"
     },
     "output_type": "display_data"
    }
   ],
   "source": [
    "sns.regplot(y_test,y_pred)"
   ]
  },
  {
   "cell_type": "markdown",
   "metadata": {},
   "source": [
    "### Cross-validation"
   ]
  },
  {
   "cell_type": "code",
   "execution_count": 75,
   "metadata": {},
   "outputs": [],
   "source": [
    "kf = KFold(n_splits = 5, shuffle = True)"
   ]
  },
  {
   "cell_type": "markdown",
   "metadata": {},
   "source": [
    "### RFR"
   ]
  },
  {
   "cell_type": "code",
   "execution_count": 86,
   "metadata": {},
   "outputs": [
    {
     "name": "stdout",
     "output_type": "stream",
     "text": [
      "Scores from each Iteration:  [0.8312354185836287, 0.8744349400769083, 0.8403157892319624, 0.8014509527156178, 0.8296581804398924]\n",
      "Average K-Fold Score : 0.8354190562096019\n"
     ]
    }
   ],
   "source": [
    "rf_reg = RandomForestRegressor()\n",
    "scores = []\n",
    "for i in range(5):\n",
    "    result = next(kf.split(df), None)\n",
    "    x_train = X.iloc[result[0]]\n",
    "    x_test = X.iloc[result[1]]\n",
    "    y_train = y.iloc[result[0]]\n",
    "    y_test = y.iloc[result[1]]\n",
    "    model = rf_reg.fit(x_train,y_train)\n",
    "    predictions = rf_reg.predict(x_test)\n",
    "    scores.append(model.score(x_test,y_test))\n",
    "print('Scores from each Iteration: ', scores)\n",
    "print('Average K-Fold Score :' , np.mean(scores))"
   ]
  },
  {
   "cell_type": "markdown",
   "metadata": {},
   "source": [
    "### KNN"
   ]
  },
  {
   "cell_type": "code",
   "execution_count": 102,
   "metadata": {},
   "outputs": [
    {
     "name": "stdout",
     "output_type": "stream",
     "text": [
      "Scores from each Iteration:  [0.6761197289955307, 0.8170586998051496, 0.8017699872309331, 0.8103491200166411, 0.5122768908700648]\n",
      "Average K-Fold Score : 0.7235148853836638\n",
      "r2Scores: [-0.9650843547274286, -0.6021955876177061, -0.4918068074341535, -0.7532859697908523, -0.8485809015783106] \n",
      "\n",
      "Scores from each Iteration:  [0.8167701983442001, 0.7057554730060909, 0.7671383281015113, 0.856472507813775, 0.8183841166385749]\n",
      "Average K-Fold Score : 0.7929041247808304\n",
      "r2Scores: [-0.9677223921918885, -1.0407101147674136, -0.5307064669741803, -0.5757833620023733, -0.6844773718433854] \n",
      "\n",
      "Scores from each Iteration:  [0.7817928828226869, 0.7282884296210625, 0.6132230905039985, 0.7448625484810931, 0.8157206471903519]\n",
      "Average K-Fold Score : 0.7367775197238385\n",
      "r2Scores: [-0.4541408261118487, -0.6126032474033309, -0.5957613369375361, -0.9696150552047365, -0.6473602993527896] \n",
      "\n",
      "Scores from each Iteration:  [0.7741269744029767, 0.8005109380382159, 0.6991841801830991, 0.5985860750118756, 0.8436217051840714]\n",
      "Average K-Fold Score : 0.7432059745640477\n",
      "r2Scores: [-0.48772919708896834, -0.8632838042185429, -0.7460388294090892, -0.7703603748373575, -0.6045284076951671] \n",
      "\n"
     ]
    }
   ],
   "source": [
    "for i in range(2,6):\n",
    "    knnr = KNeighborsRegressor(n_neighbors = i)\n",
    "    scores = []\n",
    "    r2=[]\n",
    "    for i in range(5):\n",
    "        result = next(kf.split(df), None)\n",
    "        x_train = X.iloc[result[0]]\n",
    "        x_test = X.iloc[result[1]]\n",
    "        y_train = y.iloc[result[0]]\n",
    "        y_test = y.iloc[result[1]]\n",
    "        model = knnr.fit(x_train,y_train)\n",
    "        predictions = knnr.predict(x_test)\n",
    "        scores.append(model.score(x_test,y_test))\n",
    "        r2.append(r2_score(y_test,y_pred))\n",
    "    print('Scores from each Iteration: ', scores)\n",
    "    print('Average K-Fold Score :' , np.mean(scores))\n",
    "    print('r2Scores:',r2,'\\n')"
   ]
  },
  {
   "cell_type": "code",
   "execution_count": null,
   "metadata": {},
   "outputs": [],
   "source": []
  }
 ],
 "metadata": {
  "kernelspec": {
   "display_name": "Python 3",
   "language": "python",
   "name": "python3"
  },
  "language_info": {
   "codemirror_mode": {
    "name": "ipython",
    "version": 3
   },
   "file_extension": ".py",
   "mimetype": "text/x-python",
   "name": "python",
   "nbconvert_exporter": "python",
   "pygments_lexer": "ipython3",
   "version": "3.7.4"
  }
 },
 "nbformat": 4,
 "nbformat_minor": 4
}
