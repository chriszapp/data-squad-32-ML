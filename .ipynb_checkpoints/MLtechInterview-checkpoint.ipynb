{
 "cells": [
  {
   "cell_type": "markdown",
   "metadata": {
    "colab_type": "text",
    "id": "yaxTV5iyhQ82"
   },
   "source": [
    "# ML Tech Interview\n",
    "\n",
    "Hello and welcome to the Machine Learning Tech Interview. This interview will be divided in two parts: the theoretical part and the practical/coding part. \n",
    "\n",
    "### **I will review only the scripts that will be sent (by pull request on this repo) by 5:00 pm on Friday**\n",
    "\n",
    "Good Luck!!"
   ]
  },
  {
   "cell_type": "markdown",
   "metadata": {
    "colab_type": "text",
    "id": "HQjWqn__hQ85"
   },
   "source": [
    "## Theoretical Part\n",
    "\n",
    "Please answer the following questions. "
   ]
  },
  {
   "cell_type": "markdown",
   "metadata": {
    "colab_type": "text",
    "id": "-0X1MRGNhQ86"
   },
   "source": [
    "#### What are the assumptions of a linear model (or any other type of model)?"
   ]
  },
  {
   "cell_type": "markdown",
   "metadata": {
    "colab": {},
    "colab_type": "code",
    "id": "c9rLLjNphQ86"
   },
   "source": [
    "Most machine learning models (except Decision Trees and Random Forest) have a series of assumptions that are common between them.\n",
    "\n",
    "- **Linear relationship:** linear and logistic regression models need the relationship between the independent and dependent variables to be linear. The best way to check this is with scatter plots. \n",
    "\n",
    "- **Multivariate normality:** a specific requirement of the linear regression is multivariate normality. Goodness-of-fit tests (Kolmogorov-Smirnov) can be used to confirm normality. And log-transformation sometimes help when the data is not normally distributed.\n",
    "\n",
    "- **Multicollinearity:** most models also assume that there is no multicollinearity in the data (when features are highly correlated with each other). Because correlated variables add vewry little information to a model, the common solution is to remove them (after identifying using a correlation matrix).\n",
    "\n",
    "- **Autocorrelation:** this problem occurs when the residuals are not independent from each other (for example in a time series). The Durbin-Watson test can be used to detect autocorrelation in the residuals of a correlation.\n",
    "\n",
    "- **Homoscedasticity:** much like parametric hypothesis tests, linear regression require homoscedasticity (equal variances across the features).\n",
    "\n",
    "Other examples of assumptions:\n",
    "\n",
    "Different models have different requirements. For example, time series models (such as ARIMA) assume stationarity: a process where the mean, variance and autocorrelation structure do not change over time. Another example is the K-means clustering, which assumes that clusters are spherical and of equal size between each other.\n",
    "\n"
   ]
  },
  {
   "cell_type": "markdown",
   "metadata": {
    "colab_type": "text",
    "id": "XWNx7P4HhQ8_"
   },
   "source": [
    "#### What’s the difference between K Nearest Neighbor and K-means Clustering?"
   ]
  },
  {
   "cell_type": "markdown",
   "metadata": {
    "colab": {},
    "colab_type": "code",
    "id": "hQ16LsGthQ8_"
   },
   "source": [
    "K Nearest Neighbor (KNN) is a supervised classification or regression algorithm while K-means Clustering, as the name implies, is an unsupervised method for clustering. The models are fundamentally different and the **k** value represents a very different parameter as well.\n",
    "\n",
    "The KNN as a supervised method requires labeled data to train on. New and unlabeled data is then classified by majority rule of the **k** number of nearest data points. On the other hand, K-means clustering aims to partition data points into **k** clusters. Starting from a random points, K-means iteratively calculates the distance of a point to every other point and updates the mean of each cluster. "
   ]
  },
  {
   "cell_type": "markdown",
   "metadata": {
    "colab_type": "text",
    "id": "iDDPRfBRhQ9B"
   },
   "source": [
    "#### How do you address overfitting?"
   ]
  },
  {
   "cell_type": "markdown",
   "metadata": {
    "colab": {},
    "colab_type": "code",
    "id": "h1TyBsLwhQ9D"
   },
   "source": [
    "Overfitting is the production of a model that corresponds too closely to a particular set of data, and may therefore fail to predict additional data. This usually occurs when a model has too many features for the amount of data. Overfitting can be detected when our model does much better on the training set than on the test set. There are several ways to address overfitting:\n",
    "\n",
    "- **Feature selection**: simply dropping columns. \n",
    "- **Dimensionality reduction:** techniques such as Principal Component Analysis (PCA) reduce the dimensions of your feature space, hence you have fewer relationships between variables to consider and you are less likely to overfit your model.\n",
    "- **More data points**\n",
    "- **Cross validation:** not really a solution but more of a prevention measure, like washing our hands. \n",
    "- **Regularization:** these are techniques that attempt to simplify the model such as adding penalties to the cost function, but I admit I don't entirely understand how it works.\n"
   ]
  },
  {
   "cell_type": "markdown",
   "metadata": {
    "colab_type": "text",
    "id": "0dInW-RQhQ9G"
   },
   "source": [
    "#### Explain Naive Bayes algorithms."
   ]
  },
  {
   "cell_type": "markdown",
   "metadata": {
    "colab": {},
    "colab_type": "code",
    "id": "U76IQ8xdhQ9H"
   },
   "source": [
    "Naive Bayes is a classification algorithm based on Bayes’ Theorem with very important assumptions of independence between features and that every feature contributes equally to the outcome, hence the naive in the name. \n",
    "It is simple and powerful."
   ]
  },
  {
   "cell_type": "markdown",
   "metadata": {
    "colab_type": "text",
    "id": "-UsLyyonHYwN"
   },
   "source": [
    "#### When do you use an AUC-ROC score? What kind of information can you gather from it?"
   ]
  },
  {
   "cell_type": "markdown",
   "metadata": {
    "colab": {},
    "colab_type": "code",
    "id": "Jp5SotUdHrZf"
   },
   "source": [
    "AUC (area under curve) and ROC (receiver operating characteristic) are evaluation metrics for classification algorithms. \n",
    "A ROC curve plots two parameters at all classification thresholds: True Positive Rate and False Positive Rate. It tells how much model is capable of distinguishing between classes. The higher the AUC, better the model is at predicting 0s as 0s and 1s as 1s."
   ]
  },
  {
   "cell_type": "markdown",
   "metadata": {
    "colab_type": "text",
    "id": "6gMzc684hQ9J"
   },
   "source": [
    "#### What is cross validation?"
   ]
  },
  {
   "cell_type": "markdown",
   "metadata": {
    "colab": {},
    "colab_type": "code",
    "id": "7yhBiZyJhQ9K"
   },
   "source": [
    "Cross validation is a statistical technique for testing the perfomance of a machine learning model.It gives us a comprehensive measure of a model's performance throughout the whole dataset. It is particularly useful on limited samples. Such datasets can suffer from selection bias during the test train split. One method of cross validation is the K-fold: it divides the data in to k-splits of test and train. This division is a good way so we can check that our model performs well in the entire data set.\n",
    "\n"
   ]
  },
  {
   "cell_type": "markdown",
   "metadata": {
    "colab": {},
    "colab_type": "code",
    "id": "r-8POEd6hQ9M"
   },
   "source": [
    "#### What are confounding variables?"
   ]
  },
  {
   "cell_type": "markdown",
   "metadata": {},
   "source": [
    "When an unknown or unnacounted for variable affects both dependent and dependent variables its called a confounding variable. It is particularly problematic in experimental design and interpretation, as it can lead to spurious correlations."
   ]
  },
  {
   "cell_type": "markdown",
   "metadata": {
    "colab_type": "text",
    "id": "9ixSZaNdhQ9P"
   },
   "source": [
    "#### If an important metric for our company stopped appearing in our data source, how would you investigate the causes?"
   ]
  },
  {
   "cell_type": "markdown",
   "metadata": {
    "colab": {},
    "colab_type": "code",
    "id": "KOPUF1i3hQ9Q"
   },
   "source": [
    "At first glance this seems like it could a problem during the ETL process. I would start by asking my colleagues that handle data extraction if this particular metric is still present in the source database where it is extracted from. Next I would check all other points of data transformation and loading to find out where the information is being lost."
   ]
  },
  {
   "cell_type": "markdown",
   "metadata": {
    "colab_type": "text",
    "id": "Ko6vUaXshQ9S"
   },
   "source": [
    "## Practical Machine Learning\n",
    "\n",
    "In this challenge, you will showcase your knowledge in feature engineering, dimensionality reduction, model selection and evaluation, hyperparameter tuning, and any other techniques of machine learning.\n",
    "\n",
    "There isn't a correct solution to this challenge. All we would like to learn is your thinking process that demonstrates your knowledge, experience, and creativity in developing machine learning models. Therefore, in addition to developing the model and optimizing its performance, you should also elaborate your thinking process and justify your decisions thoughout the iterative problem-solving process.\n",
    "\n",
    "The suggested time to spend on this challenge is 90-120 minutes. If you don't have time to finish all the tasks you plan to do, simply document the to-dos at the end of your response.\n",
    "\n",
    "#### Instructions:\n",
    "\n",
    "- Download the housing prices data set (housing_prices.csv). The data is big enough to showcase your thoughts but not so that processing power will be a problem.\n",
    "- Using Python, analyze the features and determine which feature set to select for modeling.\n",
    "- Train and cross validate several regression models, attempting to accurately predict the SalePrice target variable.\n",
    "- Evaluate all models and show comparison of performance metrics.\n",
    "- State your thoughts on model performance, which model(s) you would select, and why.\n",
    "\n",
    "#### Deliverables Checklist:\n",
    "\n",
    "- Python code.\n",
    "- Your thinking process.\n",
    "- The features selected for machine learning.\n",
    "- The results (e.g., performance metrics) of your selected model(s)."
   ]
  },
  {
   "cell_type": "code",
   "execution_count": 19,
   "metadata": {},
   "outputs": [],
   "source": [
    "# import libraries\n",
    "import pandas as pd\n",
    "\n",
    "pd.set_option('display.max_colwidth', -1)\n",
    "pd.set_option('display.max_rows', -1)"
   ]
  },
  {
   "cell_type": "code",
   "execution_count": 13,
   "metadata": {
    "colab": {},
    "colab_type": "code",
    "id": "3moKc9n4hQ9T"
   },
   "outputs": [],
   "source": [
    "# load the data\n",
    "housing = pd.read_csv('housing_prices.csv')"
   ]
  },
  {
   "cell_type": "code",
   "execution_count": 14,
   "metadata": {},
   "outputs": [
    {
     "name": "stdout",
     "output_type": "stream",
     "text": [
      "(1460, 81)\n"
     ]
    },
    {
     "data": {
      "text/html": [
       "<div>\n",
       "<style scoped>\n",
       "    .dataframe tbody tr th:only-of-type {\n",
       "        vertical-align: middle;\n",
       "    }\n",
       "\n",
       "    .dataframe tbody tr th {\n",
       "        vertical-align: top;\n",
       "    }\n",
       "\n",
       "    .dataframe thead th {\n",
       "        text-align: right;\n",
       "    }\n",
       "</style>\n",
       "<table border=\"1\" class=\"dataframe\">\n",
       "  <thead>\n",
       "    <tr style=\"text-align: right;\">\n",
       "      <th></th>\n",
       "      <th>Id</th>\n",
       "      <th>MSSubClass</th>\n",
       "      <th>MSZoning</th>\n",
       "      <th>LotFrontage</th>\n",
       "      <th>LotArea</th>\n",
       "      <th>Street</th>\n",
       "      <th>Alley</th>\n",
       "      <th>LotShape</th>\n",
       "      <th>LandContour</th>\n",
       "      <th>Utilities</th>\n",
       "      <th>...</th>\n",
       "      <th>PoolArea</th>\n",
       "      <th>PoolQC</th>\n",
       "      <th>Fence</th>\n",
       "      <th>MiscFeature</th>\n",
       "      <th>MiscVal</th>\n",
       "      <th>MoSold</th>\n",
       "      <th>YrSold</th>\n",
       "      <th>SaleType</th>\n",
       "      <th>SaleCondition</th>\n",
       "      <th>SalePrice</th>\n",
       "    </tr>\n",
       "  </thead>\n",
       "  <tbody>\n",
       "    <tr>\n",
       "      <td>0</td>\n",
       "      <td>1</td>\n",
       "      <td>60</td>\n",
       "      <td>RL</td>\n",
       "      <td>65.0</td>\n",
       "      <td>8450</td>\n",
       "      <td>Pave</td>\n",
       "      <td>NaN</td>\n",
       "      <td>Reg</td>\n",
       "      <td>Lvl</td>\n",
       "      <td>AllPub</td>\n",
       "      <td>...</td>\n",
       "      <td>0</td>\n",
       "      <td>NaN</td>\n",
       "      <td>NaN</td>\n",
       "      <td>NaN</td>\n",
       "      <td>0</td>\n",
       "      <td>2</td>\n",
       "      <td>2008</td>\n",
       "      <td>WD</td>\n",
       "      <td>Normal</td>\n",
       "      <td>208500</td>\n",
       "    </tr>\n",
       "    <tr>\n",
       "      <td>1</td>\n",
       "      <td>2</td>\n",
       "      <td>20</td>\n",
       "      <td>RL</td>\n",
       "      <td>80.0</td>\n",
       "      <td>9600</td>\n",
       "      <td>Pave</td>\n",
       "      <td>NaN</td>\n",
       "      <td>Reg</td>\n",
       "      <td>Lvl</td>\n",
       "      <td>AllPub</td>\n",
       "      <td>...</td>\n",
       "      <td>0</td>\n",
       "      <td>NaN</td>\n",
       "      <td>NaN</td>\n",
       "      <td>NaN</td>\n",
       "      <td>0</td>\n",
       "      <td>5</td>\n",
       "      <td>2007</td>\n",
       "      <td>WD</td>\n",
       "      <td>Normal</td>\n",
       "      <td>181500</td>\n",
       "    </tr>\n",
       "    <tr>\n",
       "      <td>2</td>\n",
       "      <td>3</td>\n",
       "      <td>60</td>\n",
       "      <td>RL</td>\n",
       "      <td>68.0</td>\n",
       "      <td>11250</td>\n",
       "      <td>Pave</td>\n",
       "      <td>NaN</td>\n",
       "      <td>IR1</td>\n",
       "      <td>Lvl</td>\n",
       "      <td>AllPub</td>\n",
       "      <td>...</td>\n",
       "      <td>0</td>\n",
       "      <td>NaN</td>\n",
       "      <td>NaN</td>\n",
       "      <td>NaN</td>\n",
       "      <td>0</td>\n",
       "      <td>9</td>\n",
       "      <td>2008</td>\n",
       "      <td>WD</td>\n",
       "      <td>Normal</td>\n",
       "      <td>223500</td>\n",
       "    </tr>\n",
       "    <tr>\n",
       "      <td>3</td>\n",
       "      <td>4</td>\n",
       "      <td>70</td>\n",
       "      <td>RL</td>\n",
       "      <td>60.0</td>\n",
       "      <td>9550</td>\n",
       "      <td>Pave</td>\n",
       "      <td>NaN</td>\n",
       "      <td>IR1</td>\n",
       "      <td>Lvl</td>\n",
       "      <td>AllPub</td>\n",
       "      <td>...</td>\n",
       "      <td>0</td>\n",
       "      <td>NaN</td>\n",
       "      <td>NaN</td>\n",
       "      <td>NaN</td>\n",
       "      <td>0</td>\n",
       "      <td>2</td>\n",
       "      <td>2006</td>\n",
       "      <td>WD</td>\n",
       "      <td>Abnorml</td>\n",
       "      <td>140000</td>\n",
       "    </tr>\n",
       "    <tr>\n",
       "      <td>4</td>\n",
       "      <td>5</td>\n",
       "      <td>60</td>\n",
       "      <td>RL</td>\n",
       "      <td>84.0</td>\n",
       "      <td>14260</td>\n",
       "      <td>Pave</td>\n",
       "      <td>NaN</td>\n",
       "      <td>IR1</td>\n",
       "      <td>Lvl</td>\n",
       "      <td>AllPub</td>\n",
       "      <td>...</td>\n",
       "      <td>0</td>\n",
       "      <td>NaN</td>\n",
       "      <td>NaN</td>\n",
       "      <td>NaN</td>\n",
       "      <td>0</td>\n",
       "      <td>12</td>\n",
       "      <td>2008</td>\n",
       "      <td>WD</td>\n",
       "      <td>Normal</td>\n",
       "      <td>250000</td>\n",
       "    </tr>\n",
       "  </tbody>\n",
       "</table>\n",
       "<p>5 rows × 81 columns</p>\n",
       "</div>"
      ],
      "text/plain": [
       "   Id  MSSubClass MSZoning  LotFrontage  LotArea Street Alley LotShape  \\\n",
       "0  1   60          RL       65.0         8450     Pave   NaN   Reg       \n",
       "1  2   20          RL       80.0         9600     Pave   NaN   Reg       \n",
       "2  3   60          RL       68.0         11250    Pave   NaN   IR1       \n",
       "3  4   70          RL       60.0         9550     Pave   NaN   IR1       \n",
       "4  5   60          RL       84.0         14260    Pave   NaN   IR1       \n",
       "\n",
       "  LandContour Utilities  ... PoolArea PoolQC Fence MiscFeature MiscVal MoSold  \\\n",
       "0  Lvl         AllPub    ...  0        NaN    NaN   NaN         0       2       \n",
       "1  Lvl         AllPub    ...  0        NaN    NaN   NaN         0       5       \n",
       "2  Lvl         AllPub    ...  0        NaN    NaN   NaN         0       9       \n",
       "3  Lvl         AllPub    ...  0        NaN    NaN   NaN         0       2       \n",
       "4  Lvl         AllPub    ...  0        NaN    NaN   NaN         0       12      \n",
       "\n",
       "  YrSold  SaleType  SaleCondition  SalePrice  \n",
       "0  2008   WD        Normal         208500     \n",
       "1  2007   WD        Normal         181500     \n",
       "2  2008   WD        Normal         223500     \n",
       "3  2006   WD        Abnorml        140000     \n",
       "4  2008   WD        Normal         250000     \n",
       "\n",
       "[5 rows x 81 columns]"
      ]
     },
     "execution_count": 14,
     "metadata": {},
     "output_type": "execute_result"
    }
   ],
   "source": [
    "# examine the dataset\n",
    "print(housing.shape)\n",
    "housing.head()"
   ]
  },
  {
   "cell_type": "code",
   "execution_count": null,
   "metadata": {},
   "outputs": [],
   "source": [
    "# my first impressions by looking at the shape is that there could be too many columns for the number of\n",
    "# observations in the dataset."
   ]
  },
  {
   "cell_type": "code",
   "execution_count": 15,
   "metadata": {},
   "outputs": [
    {
     "data": {
      "text/plain": [
       "Index(['Id', 'MSSubClass', 'MSZoning', 'LotFrontage', 'LotArea', 'Street',\n",
       "       'Alley', 'LotShape', 'LandContour', 'Utilities', 'LotConfig',\n",
       "       'LandSlope', 'Neighborhood', 'Condition1', 'Condition2', 'BldgType',\n",
       "       'HouseStyle', 'OverallQual', 'OverallCond', 'YearBuilt', 'YearRemodAdd',\n",
       "       'RoofStyle', 'RoofMatl', 'Exterior1st', 'Exterior2nd', 'MasVnrType',\n",
       "       'MasVnrArea', 'ExterQual', 'ExterCond', 'Foundation', 'BsmtQual',\n",
       "       'BsmtCond', 'BsmtExposure', 'BsmtFinType1', 'BsmtFinSF1',\n",
       "       'BsmtFinType2', 'BsmtFinSF2', 'BsmtUnfSF', 'TotalBsmtSF', 'Heating',\n",
       "       'HeatingQC', 'CentralAir', 'Electrical', '1stFlrSF', '2ndFlrSF',\n",
       "       'LowQualFinSF', 'GrLivArea', 'BsmtFullBath', 'BsmtHalfBath', 'FullBath',\n",
       "       'HalfBath', 'BedroomAbvGr', 'KitchenAbvGr', 'KitchenQual',\n",
       "       'TotRmsAbvGrd', 'Functional', 'Fireplaces', 'FireplaceQu', 'GarageType',\n",
       "       'GarageYrBlt', 'GarageFinish', 'GarageCars', 'GarageArea', 'GarageQual',\n",
       "       'GarageCond', 'PavedDrive', 'WoodDeckSF', 'OpenPorchSF',\n",
       "       'EnclosedPorch', '3SsnPorch', 'ScreenPorch', 'PoolArea', 'PoolQC',\n",
       "       'Fence', 'MiscFeature', 'MiscVal', 'MoSold', 'YrSold', 'SaleType',\n",
       "       'SaleCondition', 'SalePrice'],\n",
       "      dtype='object')"
      ]
     },
     "execution_count": 15,
     "metadata": {},
     "output_type": "execute_result"
    }
   ],
   "source": [
    "housing.columns"
   ]
  },
  {
   "cell_type": "code",
   "execution_count": 20,
   "metadata": {},
   "outputs": [
    {
     "data": {
      "text/plain": [
       "                 int64  \n",
       "Id               int64  \n",
       "MSSubClass       object \n",
       "MSZoning         float64\n",
       "LotFrontage      int64  \n",
       "LotArea          object \n",
       "Street           object \n",
       "Alley            object \n",
       "LotShape         object \n",
       "LandContour      object \n",
       "Utilities        object \n",
       "LotConfig        object \n",
       "LandSlope        object \n",
       "Neighborhood     object \n",
       "Condition1       object \n",
       "Condition2       object \n",
       "BldgType         object \n",
       "HouseStyle       int64  \n",
       "OverallQual      int64  \n",
       "OverallCond      int64  \n",
       "YearBuilt        int64  \n",
       "YearRemodAdd     object \n",
       "RoofStyle        object \n",
       "RoofMatl         object \n",
       "Exterior1st      object \n",
       "Exterior2nd      object \n",
       "MasVnrType       float64\n",
       "MasVnrArea       object \n",
       "ExterQual        object \n",
       "ExterCond        object \n",
       "Foundation       object \n",
       "BsmtQual         object \n",
       "BsmtCond         object \n",
       "BsmtExposure     object \n",
       "BsmtFinType1     int64  \n",
       "BsmtFinSF1       object \n",
       "BsmtFinType2     int64  \n",
       "BsmtFinSF2       int64  \n",
       "BsmtUnfSF        int64  \n",
       "TotalBsmtSF      object \n",
       "Heating          object \n",
       "HeatingQC        object \n",
       "CentralAir       object \n",
       "Electrical       int64  \n",
       "1stFlrSF         int64  \n",
       "2ndFlrSF         int64  \n",
       "LowQualFinSF     int64  \n",
       "GrLivArea        int64  \n",
       "BsmtFullBath     int64  \n",
       "BsmtHalfBath     int64  \n",
       "FullBath         int64  \n",
       "HalfBath         int64  \n",
       "BedroomAbvGr     int64  \n",
       "KitchenAbvGr     object \n",
       "KitchenQual      int64  \n",
       "TotRmsAbvGrd     object \n",
       "Functional       int64  \n",
       "Fireplaces       object \n",
       "FireplaceQu      object \n",
       "GarageType       float64\n",
       "GarageYrBlt      object \n",
       "GarageFinish     int64  \n",
       "GarageCars       int64  \n",
       "GarageArea       object \n",
       "GarageQual       object \n",
       "GarageCond       object \n",
       "PavedDrive       int64  \n",
       "WoodDeckSF       int64  \n",
       "OpenPorchSF      int64  \n",
       "EnclosedPorch    int64  \n",
       "3SsnPorch        int64  \n",
       "ScreenPorch      int64  \n",
       "PoolArea         object \n",
       "PoolQC           object \n",
       "Fence            object \n",
       "MiscFeature      int64  \n",
       "MiscVal          int64  \n",
       "MoSold           int64  \n",
       "YrSold           object \n",
       "SaleType         object \n",
       "SaleCondition    int64  \n",
       "MSSubClass       object \n",
       "MSZoning         float64\n",
       "LotFrontage      int64  \n",
       "LotArea          object \n",
       "Street           object \n",
       "Alley            object \n",
       "LotShape         object \n",
       "LandContour      object \n",
       "Utilities        object \n",
       "LotConfig        object \n",
       "LandSlope        object \n",
       "Neighborhood     object \n",
       "Condition1       object \n",
       "Condition2       object \n",
       "BldgType         object \n",
       "HouseStyle       int64  \n",
       "OverallQual      int64  \n",
       "OverallCond      int64  \n",
       "YearBuilt        int64  \n",
       "YearRemodAdd     object \n",
       "RoofStyle        object \n",
       "RoofMatl         object \n",
       "Exterior1st      object \n",
       "Exterior2nd      object \n",
       "MasVnrType       float64\n",
       "MasVnrArea       object \n",
       "ExterQual        object \n",
       "ExterCond        object \n",
       "Foundation       object \n",
       "BsmtQual         object \n",
       "BsmtCond         object \n",
       "BsmtExposure     object \n",
       "BsmtFinType1     int64  \n",
       "BsmtFinSF1       object \n",
       "BsmtFinType2     int64  \n",
       "BsmtFinSF2       int64  \n",
       "BsmtUnfSF        int64  \n",
       "TotalBsmtSF      object \n",
       "Heating          object \n",
       "HeatingQC        object \n",
       "CentralAir       object \n",
       "Electrical       int64  \n",
       "1stFlrSF         int64  \n",
       "2ndFlrSF         int64  \n",
       "LowQualFinSF     int64  \n",
       "GrLivArea        int64  \n",
       "BsmtFullBath     int64  \n",
       "BsmtHalfBath     int64  \n",
       "FullBath         int64  \n",
       "HalfBath         int64  \n",
       "BedroomAbvGr     int64  \n",
       "KitchenAbvGr     object \n",
       "KitchenQual      int64  \n",
       "TotRmsAbvGrd     object \n",
       "Functional       int64  \n",
       "Fireplaces       object \n",
       "FireplaceQu      object \n",
       "GarageType       float64\n",
       "GarageYrBlt      object \n",
       "GarageFinish     int64  \n",
       "GarageCars       int64  \n",
       "GarageArea       object \n",
       "GarageQual       object \n",
       "GarageCond       object \n",
       "PavedDrive       int64  \n",
       "WoodDeckSF       int64  \n",
       "OpenPorchSF      int64  \n",
       "EnclosedPorch    int64  \n",
       "3SsnPorch        int64  \n",
       "ScreenPorch      int64  \n",
       "PoolArea         object \n",
       "PoolQC           object \n",
       "Fence            object \n",
       "MiscFeature      int64  \n",
       "MiscVal          int64  \n",
       "MoSold           int64  \n",
       "YrSold           object \n",
       "SaleType         object \n",
       "SaleCondition     ...   \n",
       "SalePrice        int64  \n",
       "Length: 81, dtype: object"
      ]
     },
     "execution_count": 20,
     "metadata": {},
     "output_type": "execute_result"
    }
   ],
   "source": [
    "housing.dtypes"
   ]
  },
  {
   "cell_type": "code",
   "execution_count": 8,
   "metadata": {},
   "outputs": [
    {
     "data": {
      "text/plain": [
       "PoolQC           1453\n",
       "MiscFeature      1406\n",
       "Alley            1369\n",
       "Fence            1179\n",
       "FireplaceQu       690\n",
       "                 ... \n",
       "CentralAir          0\n",
       "SaleCondition       0\n",
       "Heating             0\n",
       "TotalBsmtSF         0\n",
       "Id                  0\n",
       "Length: 81, dtype: int64"
      ]
     },
     "execution_count": 8,
     "metadata": {},
     "output_type": "execute_result"
    }
   ],
   "source": [
    "# data cleaning\n",
    "# missing values\n",
    "housing.isna().sum().sort_values(ascending=False)"
   ]
  },
  {
   "cell_type": "code",
   "execution_count": null,
   "metadata": {},
   "outputs": [],
   "source": []
  }
 ],
 "metadata": {
  "colab": {
   "collapsed_sections": [],
   "name": "MLtechInterview.ipynb",
   "provenance": []
  },
  "kernelspec": {
   "display_name": "Python 3",
   "language": "python",
   "name": "python3"
  },
  "language_info": {
   "codemirror_mode": {
    "name": "ipython",
    "version": 3
   },
   "file_extension": ".py",
   "mimetype": "text/x-python",
   "name": "python",
   "nbconvert_exporter": "python",
   "pygments_lexer": "ipython3",
   "version": "3.7.4"
  }
 },
 "nbformat": 4,
 "nbformat_minor": 1
}
