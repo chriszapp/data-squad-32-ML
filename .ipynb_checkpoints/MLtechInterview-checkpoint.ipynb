{
 "cells": [
  {
   "cell_type": "markdown",
   "metadata": {
    "colab_type": "text",
    "id": "yaxTV5iyhQ82"
   },
   "source": [
    "# ML Tech Interview\n",
    "\n",
    "Hello and welcome to the Machine Learning Tech Interview. This interview will be divided in two parts: the theoretical part and the practical/coding part. \n",
    "\n",
    "### **I will review only the scripts that will be sent (by pull request on this repo) by 1:00 pm**\n",
    "\n",
    "Good Luck!!"
   ]
  },
  {
   "cell_type": "markdown",
   "metadata": {
    "colab_type": "text",
    "id": "HQjWqn__hQ85"
   },
   "source": [
    "## Theoretical Part\n",
    "\n",
    "Please answer the following questions. "
   ]
  },
  {
   "cell_type": "markdown",
   "metadata": {
    "colab_type": "text",
    "id": "-0X1MRGNhQ86"
   },
   "source": [
    "#### What are the assumptions of a linear model (or any other type of model)?"
   ]
  },
  {
   "cell_type": "markdown",
   "metadata": {
    "colab": {},
    "colab_type": "code",
    "id": "c9rLLjNphQ86"
   },
   "source": [
    "To machine learning models work properly the data should not have auto-correlation in the residuals neither collinearity between different features. It also should be balanced otherwise the results are going to be untrustworthy."
   ]
  },
  {
   "cell_type": "markdown",
   "metadata": {
    "colab_type": "text",
    "id": "XWNx7P4HhQ8_"
   },
   "source": [
    "#### What’s the difference between K Nearest Neighbor and K-means Clustering?"
   ]
  },
  {
   "cell_type": "markdown",
   "metadata": {
    "colab": {},
    "colab_type": "code",
    "id": "hQ16LsGthQ8_"
   },
   "source": [
    "The K Nearest Neighbor is used in supervised models and the K-means Clustering is used in unsupervised models.   "
   ]
  },
  {
   "cell_type": "markdown",
   "metadata": {
    "colab_type": "text",
    "id": "iDDPRfBRhQ9B"
   },
   "source": [
    "#### How do you address overfitting?"
   ]
  },
  {
   "cell_type": "markdown",
   "metadata": {
    "colab": {},
    "colab_type": "code",
    "id": "h1TyBsLwhQ9D"
   },
   "source": [
    "Overfitting is one common problem of machine learning models. It happens when the model is so linked to the data that it can't make predictions outside of it. In other words, the predictions are just the results it already knows and won't work with other data."
   ]
  },
  {
   "cell_type": "markdown",
   "metadata": {
    "colab_type": "text",
    "id": "0dInW-RQhQ9G"
   },
   "source": [
    "#### Explain Naive Bayes algorithms."
   ]
  },
  {
   "cell_type": "markdown",
   "metadata": {
    "colab": {},
    "colab_type": "code",
    "id": "U76IQ8xdhQ9H"
   },
   "source": [
    "Naive Bayes is a probabilistic machine learning algorithm based on the Bayes Theorem. It assumes the features that go into the model are independent of each other. That is, changing the value of one feature, does not directly influence or change the value of any of the other features used in the algorithm."
   ]
  },
  {
   "cell_type": "markdown",
   "metadata": {
    "colab_type": "text",
    "id": "-UsLyyonHYwN"
   },
   "source": [
    "#### When do you use an AUC-ROC score? What kind of information can you gather from it?"
   ]
  },
  {
   "cell_type": "markdown",
   "metadata": {
    "colab": {},
    "colab_type": "code",
    "id": "Jp5SotUdHrZf"
   },
   "source": [
    "AUC - ROC(Area Under The Curve - Receiver Operating Characteristics) curve is a performance measurement for classification problem at various thresholds settings. ROC is a probability curve and AUC represents degree or measure of separability. It tells how much model is capable of distinguishing between classes. Higher the AUC, better the model is at predicting 0s as 0s and 1s as 1s."
   ]
  },
  {
   "cell_type": "markdown",
   "metadata": {
    "colab_type": "text",
    "id": "6gMzc684hQ9J"
   },
   "source": [
    "#### What is cross validation?"
   ]
  },
  {
   "cell_type": "markdown",
   "metadata": {
    "colab": {},
    "colab_type": "code",
    "id": "7yhBiZyJhQ9K"
   },
   "source": [
    "Cross-validation is a method used to estimate the skill of a machine learning model on unseen data. That is, to use a limited sample in order to estimate how the model is expected to perform in general when used to make predictions on data not used during the training of the model. It splits the data in k equal size sub-datasets and train & test in each one of them."
   ]
  },
  {
   "cell_type": "markdown",
   "metadata": {
    "colab_type": "text",
    "id": "wqEQlGL2hQ9L"
   },
   "source": [
    "#### What are confounding variables?"
   ]
  },
  {
   "cell_type": "markdown",
   "metadata": {
    "colab": {},
    "colab_type": "code",
    "id": "r-8POEd6hQ9M"
   },
   "source": [
    "Confounding variables are variables that influences both the independent and the dependent variables and cause spurious relations between them. It can ruin a test if not taken care of and understand if it's useful or not"
   ]
  },
  {
   "cell_type": "markdown",
   "metadata": {
    "colab_type": "text",
    "id": "9ixSZaNdhQ9P"
   },
   "source": [
    "#### If an important metric for our company stopped appearing in our data source, how would you investigate the causes?"
   ]
  },
  {
   "cell_type": "markdown",
   "metadata": {
    "colab": {},
    "colab_type": "code",
    "id": "KOPUF1i3hQ9Q"
   },
   "source": [
    "First of all I'd take a look at previous data if available and check if there was anything irregular there and what to inspect. Then investigate how that data is collected and from were to. If the problem cannot be solved by doing what was being doing in the past I'd try to figure out new ways of collecting the same data."
   ]
  },
  {
   "cell_type": "markdown",
   "metadata": {
    "colab_type": "text",
    "id": "Ko6vUaXshQ9S"
   },
   "source": [
    "## Practical Machine Learning\n",
    "\n",
    "In this challenge, you will showcase your knowledge in feature engineering, dimensionality reduction, model selection and evaluation, hyperparameter tuning, and any other techniques of machine learning.\n",
    "\n",
    "There isn't a correct solution to this challenge. All we would like to learn is your thinking process that demonstrates your knowledge, experience, and creativity in developing machine learning models. Therefore, in addition to developing the model and optimizing its performance, you should also elaborate your thinking process and justify your decisions thoughout the iterative problem-solving process.\n",
    "\n",
    "The suggested time to spend on this challenge is 90-120 minutes. If you don't have time to finish all the tasks you plan to do, simply document the to-dos at the end of your response.\n",
    "\n",
    "#### Instructions:\n",
    "\n",
    "- Download the housing prices data set (housing_prices.csv). The data is big enough to showcase your thoughts but not so that processing power will be a problem.\n",
    "- Using Python, analyze the features and determine which feature set to select for modeling.\n",
    "- Train and cross validate several regression models, attempting to accurately predict the SalePrice target variable.\n",
    "- Evaluate all models and show comparison of performance metrics.\n",
    "- State your thoughts on model performance, which model(s) you would select, and why.\n",
    "\n",
    "#### Deliverables Checklist:\n",
    "\n",
    "- Python code.\n",
    "- Your thinking process.\n",
    "- The features selected for machine learning.\n",
    "- The results (e.g., performance metrics) of your selected model(s)."
   ]
  },
  {
   "cell_type": "code",
   "execution_count": 26,
   "metadata": {},
   "outputs": [],
   "source": [
    "# LIBRARIES\n",
    "\n",
    "import pandas as pd\n",
    "import numpy as np\n",
    "from sklearn.pipeline import make_pipeline\n",
    "from sklearn.linear_model import LinearRegression\n",
    "from sklearn.preprocessing import PolynomialFeatures\n",
    "from sklearn.metrics import silhouette_score\n",
    "from sklearn.model_selection import train_test_split\n",
    "import matplotlib.pyplot as plt\n",
    "from sklearn.preprocessing import LabelEncoder\n",
    "from sklearn.preprocessing import MinMaxScaler, StandardScaler\n",
    "from sklearn.tree import DecisionTreeRegressor\n",
    "from sklearn.neighbors import KNeighborsRegressor\n",
    "from scipy import stats"
   ]
  },
  {
   "cell_type": "code",
   "execution_count": 4,
   "metadata": {
    "colab": {},
    "colab_type": "code",
    "id": "3moKc9n4hQ9T"
   },
   "outputs": [],
   "source": [
    "# Import the data\n",
    "house = pd.read_csv('housing_prices.csv')"
   ]
  },
  {
   "cell_type": "code",
   "execution_count": 5,
   "metadata": {},
   "outputs": [
    {
     "data": {
      "text/html": [
       "<div>\n",
       "<style scoped>\n",
       "    .dataframe tbody tr th:only-of-type {\n",
       "        vertical-align: middle;\n",
       "    }\n",
       "\n",
       "    .dataframe tbody tr th {\n",
       "        vertical-align: top;\n",
       "    }\n",
       "\n",
       "    .dataframe thead th {\n",
       "        text-align: right;\n",
       "    }\n",
       "</style>\n",
       "<table border=\"1\" class=\"dataframe\">\n",
       "  <thead>\n",
       "    <tr style=\"text-align: right;\">\n",
       "      <th></th>\n",
       "      <th>Id</th>\n",
       "      <th>MSSubClass</th>\n",
       "      <th>MSZoning</th>\n",
       "      <th>LotFrontage</th>\n",
       "      <th>LotArea</th>\n",
       "      <th>Street</th>\n",
       "      <th>Alley</th>\n",
       "      <th>LotShape</th>\n",
       "      <th>LandContour</th>\n",
       "      <th>Utilities</th>\n",
       "      <th>...</th>\n",
       "      <th>PoolArea</th>\n",
       "      <th>PoolQC</th>\n",
       "      <th>Fence</th>\n",
       "      <th>MiscFeature</th>\n",
       "      <th>MiscVal</th>\n",
       "      <th>MoSold</th>\n",
       "      <th>YrSold</th>\n",
       "      <th>SaleType</th>\n",
       "      <th>SaleCondition</th>\n",
       "      <th>SalePrice</th>\n",
       "    </tr>\n",
       "  </thead>\n",
       "  <tbody>\n",
       "    <tr>\n",
       "      <th>0</th>\n",
       "      <td>1</td>\n",
       "      <td>60</td>\n",
       "      <td>RL</td>\n",
       "      <td>65.0</td>\n",
       "      <td>8450</td>\n",
       "      <td>Pave</td>\n",
       "      <td>NaN</td>\n",
       "      <td>Reg</td>\n",
       "      <td>Lvl</td>\n",
       "      <td>AllPub</td>\n",
       "      <td>...</td>\n",
       "      <td>0</td>\n",
       "      <td>NaN</td>\n",
       "      <td>NaN</td>\n",
       "      <td>NaN</td>\n",
       "      <td>0</td>\n",
       "      <td>2</td>\n",
       "      <td>2008</td>\n",
       "      <td>WD</td>\n",
       "      <td>Normal</td>\n",
       "      <td>208500</td>\n",
       "    </tr>\n",
       "    <tr>\n",
       "      <th>1</th>\n",
       "      <td>2</td>\n",
       "      <td>20</td>\n",
       "      <td>RL</td>\n",
       "      <td>80.0</td>\n",
       "      <td>9600</td>\n",
       "      <td>Pave</td>\n",
       "      <td>NaN</td>\n",
       "      <td>Reg</td>\n",
       "      <td>Lvl</td>\n",
       "      <td>AllPub</td>\n",
       "      <td>...</td>\n",
       "      <td>0</td>\n",
       "      <td>NaN</td>\n",
       "      <td>NaN</td>\n",
       "      <td>NaN</td>\n",
       "      <td>0</td>\n",
       "      <td>5</td>\n",
       "      <td>2007</td>\n",
       "      <td>WD</td>\n",
       "      <td>Normal</td>\n",
       "      <td>181500</td>\n",
       "    </tr>\n",
       "    <tr>\n",
       "      <th>2</th>\n",
       "      <td>3</td>\n",
       "      <td>60</td>\n",
       "      <td>RL</td>\n",
       "      <td>68.0</td>\n",
       "      <td>11250</td>\n",
       "      <td>Pave</td>\n",
       "      <td>NaN</td>\n",
       "      <td>IR1</td>\n",
       "      <td>Lvl</td>\n",
       "      <td>AllPub</td>\n",
       "      <td>...</td>\n",
       "      <td>0</td>\n",
       "      <td>NaN</td>\n",
       "      <td>NaN</td>\n",
       "      <td>NaN</td>\n",
       "      <td>0</td>\n",
       "      <td>9</td>\n",
       "      <td>2008</td>\n",
       "      <td>WD</td>\n",
       "      <td>Normal</td>\n",
       "      <td>223500</td>\n",
       "    </tr>\n",
       "    <tr>\n",
       "      <th>3</th>\n",
       "      <td>4</td>\n",
       "      <td>70</td>\n",
       "      <td>RL</td>\n",
       "      <td>60.0</td>\n",
       "      <td>9550</td>\n",
       "      <td>Pave</td>\n",
       "      <td>NaN</td>\n",
       "      <td>IR1</td>\n",
       "      <td>Lvl</td>\n",
       "      <td>AllPub</td>\n",
       "      <td>...</td>\n",
       "      <td>0</td>\n",
       "      <td>NaN</td>\n",
       "      <td>NaN</td>\n",
       "      <td>NaN</td>\n",
       "      <td>0</td>\n",
       "      <td>2</td>\n",
       "      <td>2006</td>\n",
       "      <td>WD</td>\n",
       "      <td>Abnorml</td>\n",
       "      <td>140000</td>\n",
       "    </tr>\n",
       "    <tr>\n",
       "      <th>4</th>\n",
       "      <td>5</td>\n",
       "      <td>60</td>\n",
       "      <td>RL</td>\n",
       "      <td>84.0</td>\n",
       "      <td>14260</td>\n",
       "      <td>Pave</td>\n",
       "      <td>NaN</td>\n",
       "      <td>IR1</td>\n",
       "      <td>Lvl</td>\n",
       "      <td>AllPub</td>\n",
       "      <td>...</td>\n",
       "      <td>0</td>\n",
       "      <td>NaN</td>\n",
       "      <td>NaN</td>\n",
       "      <td>NaN</td>\n",
       "      <td>0</td>\n",
       "      <td>12</td>\n",
       "      <td>2008</td>\n",
       "      <td>WD</td>\n",
       "      <td>Normal</td>\n",
       "      <td>250000</td>\n",
       "    </tr>\n",
       "  </tbody>\n",
       "</table>\n",
       "<p>5 rows × 81 columns</p>\n",
       "</div>"
      ],
      "text/plain": [
       "   Id  MSSubClass MSZoning  LotFrontage  LotArea Street Alley LotShape  \\\n",
       "0   1          60       RL         65.0     8450   Pave   NaN      Reg   \n",
       "1   2          20       RL         80.0     9600   Pave   NaN      Reg   \n",
       "2   3          60       RL         68.0    11250   Pave   NaN      IR1   \n",
       "3   4          70       RL         60.0     9550   Pave   NaN      IR1   \n",
       "4   5          60       RL         84.0    14260   Pave   NaN      IR1   \n",
       "\n",
       "  LandContour Utilities  ... PoolArea PoolQC Fence MiscFeature MiscVal MoSold  \\\n",
       "0         Lvl    AllPub  ...        0    NaN   NaN         NaN       0      2   \n",
       "1         Lvl    AllPub  ...        0    NaN   NaN         NaN       0      5   \n",
       "2         Lvl    AllPub  ...        0    NaN   NaN         NaN       0      9   \n",
       "3         Lvl    AllPub  ...        0    NaN   NaN         NaN       0      2   \n",
       "4         Lvl    AllPub  ...        0    NaN   NaN         NaN       0     12   \n",
       "\n",
       "  YrSold  SaleType  SaleCondition  SalePrice  \n",
       "0   2008        WD         Normal     208500  \n",
       "1   2007        WD         Normal     181500  \n",
       "2   2008        WD         Normal     223500  \n",
       "3   2006        WD        Abnorml     140000  \n",
       "4   2008        WD         Normal     250000  \n",
       "\n",
       "[5 rows x 81 columns]"
      ]
     },
     "execution_count": 5,
     "metadata": {},
     "output_type": "execute_result"
    }
   ],
   "source": [
    "house.head()"
   ]
  },
  {
   "cell_type": "code",
   "execution_count": 6,
   "metadata": {},
   "outputs": [],
   "source": [
    "# This functions drops the columns that have more than 10% of their values as NaN\n",
    "def dropnull(data):\n",
    "    for i in data:\n",
    "        if len(data[data[i].isnull()==True]) > 0.1*len(data):\n",
    "            data = data.drop(columns=[i])\n",
    "    return data"
   ]
  },
  {
   "cell_type": "code",
   "execution_count": 7,
   "metadata": {},
   "outputs": [],
   "source": [
    "house_clean = dropnull(house)"
   ]
  },
  {
   "cell_type": "code",
   "execution_count": 8,
   "metadata": {
    "collapsed": true
   },
   "outputs": [
    {
     "name": "stdout",
     "output_type": "stream",
     "text": [
      "MSZoning //// {'RM', 'FV', 'C (all)', 'RH', 'RL'}\n",
      "Street //// {'Pave', 'Grvl'}\n",
      "LotShape //// {'IR3', 'IR1', 'IR2', 'Reg'}\n",
      "LandContour //// {'Lvl', 'Bnk', 'HLS', 'Low'}\n",
      "Utilities //// {'AllPub', 'NoSeWa'}\n",
      "LotConfig //// {'Inside', 'FR3', 'CulDSac', 'Corner', 'FR2'}\n",
      "LandSlope //// {'Gtl', 'Mod', 'Sev'}\n",
      "Neighborhood //// {'NAmes', 'Blueste', 'Blmngtn', 'Timber', 'OldTown', 'SawyerW', 'IDOTRR', 'NPkVill', 'BrkSide', 'Gilbert', 'Veenker', 'CollgCr', 'NridgHt', 'SWISU', 'Mitchel', 'ClearCr', 'Sawyer', 'StoneBr', 'NoRidge', 'Edwards', 'Crawfor', 'NWAmes', 'BrDale', 'MeadowV', 'Somerst'}\n",
      "Condition1 //// {'RRNe', 'RRNn', 'RRAn', 'Norm', 'PosN', 'Feedr', 'RRAe', 'Artery', 'PosA'}\n",
      "Condition2 //// {'RRNn', 'RRAn', 'Norm', 'PosN', 'Feedr', 'RRAe', 'Artery', 'PosA'}\n",
      "BldgType //// {'1Fam', 'TwnhsE', 'Twnhs', 'Duplex', '2fmCon'}\n",
      "HouseStyle //// {'1.5Unf', 'SLvl', '2.5Fin', '1Story', 'SFoyer', '1.5Fin', '2.5Unf', '2Story'}\n",
      "RoofStyle //// {'Flat', 'Gable', 'Shed', 'Hip', 'Mansard', 'Gambrel'}\n",
      "RoofMatl //// {'WdShngl', 'Metal', 'Membran', 'Roll', 'ClyTile', 'CompShg', 'Tar&Grv', 'WdShake'}\n",
      "Exterior1st //// {'Stucco', 'AsphShn', 'CBlock', 'WdShing', 'VinylSd', 'AsbShng', 'Plywood', 'Stone', 'CemntBd', 'Wd Sdng', 'ImStucc', 'BrkFace', 'BrkComm', 'HdBoard', 'MetalSd'}\n",
      "Exterior2nd //// {'Stucco', 'AsphShn', 'CBlock', 'VinylSd', 'AsbShng', 'Brk Cmn', 'CmentBd', 'Wd Shng', 'Plywood', 'Stone', 'Other', 'Wd Sdng', 'ImStucc', 'BrkFace', 'HdBoard', 'MetalSd'}\n",
      "MasVnrType //// {nan, 'BrkCmn', 'Stone', 'BrkFace', 'None'}\n",
      "ExterQual //// {'TA', 'Ex', 'Gd', 'Fa'}\n",
      "ExterCond //// {'Ex', 'TA', 'Fa', 'Gd', 'Po'}\n",
      "Foundation //// {'Wood', 'CBlock', 'PConc', 'BrkTil', 'Slab', 'Stone'}\n",
      "BsmtQual //// {nan, 'Ex', 'TA', 'Gd', 'Fa'}\n",
      "BsmtCond //// {nan, 'TA', 'Fa', 'Gd', 'Po'}\n",
      "BsmtExposure //// {nan, 'No', 'Av', 'Mn', 'Gd'}\n",
      "BsmtFinType1 //// {nan, 'GLQ', 'ALQ', 'LwQ', 'BLQ', 'Unf', 'Rec'}\n",
      "BsmtFinType2 //// {nan, 'GLQ', 'ALQ', 'LwQ', 'BLQ', 'Unf', 'Rec'}\n",
      "Heating //// {'GasA', 'GasW', 'Floor', 'OthW', 'Wall', 'Grav'}\n",
      "HeatingQC //// {'Ex', 'TA', 'Fa', 'Gd', 'Po'}\n",
      "CentralAir //// {'N', 'Y'}\n",
      "Electrical //// {nan, 'FuseF', 'FuseP', 'SBrkr', 'Mix', 'FuseA'}\n",
      "KitchenQual //// {'TA', 'Ex', 'Gd', 'Fa'}\n",
      "Functional //// {'Min2', 'Min1', 'Sev', 'Maj2', 'Typ', 'Mod', 'Maj1'}\n",
      "GarageType //// {nan, 'Attchd', 'Detchd', 'Basment', 'BuiltIn', 'CarPort', '2Types'}\n",
      "GarageFinish //// {'Fin', nan, 'RFn', 'Unf'}\n",
      "GarageQual //// {nan, 'Ex', 'TA', 'Po', 'Gd', 'Fa'}\n",
      "GarageCond //// {nan, 'Ex', 'TA', 'Fa', 'Gd', 'Po'}\n",
      "PavedDrive //// {'N', 'P', 'Y'}\n",
      "SaleType //// {'COD', 'ConLw', 'CWD', 'Con', 'New', 'WD', 'Oth', 'ConLI', 'ConLD'}\n",
      "SaleCondition //// {'Abnorml', 'Normal', 'Alloca', 'Partial', 'AdjLand', 'Family'}\n"
     ]
    }
   ],
   "source": [
    "# Taking a look on the different values on the features with categorical values\n",
    "for i in house_clean.columns:\n",
    "    if house_clean[i].dtype==\"object\":\n",
    "        print(f\"{i} //// {set(house_clean[i])}\")"
   ]
  },
  {
   "cell_type": "code",
   "execution_count": 9,
   "metadata": {},
   "outputs": [],
   "source": [
    "# This function drops the columns that have more than 5 different categorical values\n",
    "def dropcategorical(data):\n",
    "    for i in data:\n",
    "        if len(set(data[i])) > 5 and data[i].dtype==\"object\":\n",
    "            data = data.drop(columns=[i])\n",
    "    return data"
   ]
  },
  {
   "cell_type": "code",
   "execution_count": 10,
   "metadata": {},
   "outputs": [],
   "source": [
    "house_clean2 = dropcategorical(house_clean)\n",
    "house_clean2 = house_clean2.drop(columns=['Id'])"
   ]
  },
  {
   "cell_type": "code",
   "execution_count": 11,
   "metadata": {
    "collapsed": true
   },
   "outputs": [
    {
     "data": {
      "text/html": [
       "<div>\n",
       "<style scoped>\n",
       "    .dataframe tbody tr th:only-of-type {\n",
       "        vertical-align: middle;\n",
       "    }\n",
       "\n",
       "    .dataframe tbody tr th {\n",
       "        vertical-align: top;\n",
       "    }\n",
       "\n",
       "    .dataframe thead th {\n",
       "        text-align: right;\n",
       "    }\n",
       "</style>\n",
       "<table border=\"1\" class=\"dataframe\">\n",
       "  <thead>\n",
       "    <tr style=\"text-align: right;\">\n",
       "      <th></th>\n",
       "      <th>MSSubClass</th>\n",
       "      <th>MSZoning</th>\n",
       "      <th>LotArea</th>\n",
       "      <th>Street</th>\n",
       "      <th>LotShape</th>\n",
       "      <th>LandContour</th>\n",
       "      <th>Utilities</th>\n",
       "      <th>LotConfig</th>\n",
       "      <th>LandSlope</th>\n",
       "      <th>BldgType</th>\n",
       "      <th>...</th>\n",
       "      <th>WoodDeckSF</th>\n",
       "      <th>OpenPorchSF</th>\n",
       "      <th>EnclosedPorch</th>\n",
       "      <th>3SsnPorch</th>\n",
       "      <th>ScreenPorch</th>\n",
       "      <th>PoolArea</th>\n",
       "      <th>MiscVal</th>\n",
       "      <th>MoSold</th>\n",
       "      <th>YrSold</th>\n",
       "      <th>SalePrice</th>\n",
       "    </tr>\n",
       "  </thead>\n",
       "  <tbody>\n",
       "    <tr>\n",
       "      <th>0</th>\n",
       "      <td>60</td>\n",
       "      <td>RL</td>\n",
       "      <td>8450</td>\n",
       "      <td>Pave</td>\n",
       "      <td>Reg</td>\n",
       "      <td>Lvl</td>\n",
       "      <td>AllPub</td>\n",
       "      <td>Inside</td>\n",
       "      <td>Gtl</td>\n",
       "      <td>1Fam</td>\n",
       "      <td>...</td>\n",
       "      <td>0</td>\n",
       "      <td>61</td>\n",
       "      <td>0</td>\n",
       "      <td>0</td>\n",
       "      <td>0</td>\n",
       "      <td>0</td>\n",
       "      <td>0</td>\n",
       "      <td>2</td>\n",
       "      <td>2008</td>\n",
       "      <td>208500</td>\n",
       "    </tr>\n",
       "    <tr>\n",
       "      <th>1</th>\n",
       "      <td>20</td>\n",
       "      <td>RL</td>\n",
       "      <td>9600</td>\n",
       "      <td>Pave</td>\n",
       "      <td>Reg</td>\n",
       "      <td>Lvl</td>\n",
       "      <td>AllPub</td>\n",
       "      <td>FR2</td>\n",
       "      <td>Gtl</td>\n",
       "      <td>1Fam</td>\n",
       "      <td>...</td>\n",
       "      <td>298</td>\n",
       "      <td>0</td>\n",
       "      <td>0</td>\n",
       "      <td>0</td>\n",
       "      <td>0</td>\n",
       "      <td>0</td>\n",
       "      <td>0</td>\n",
       "      <td>5</td>\n",
       "      <td>2007</td>\n",
       "      <td>181500</td>\n",
       "    </tr>\n",
       "    <tr>\n",
       "      <th>2</th>\n",
       "      <td>60</td>\n",
       "      <td>RL</td>\n",
       "      <td>11250</td>\n",
       "      <td>Pave</td>\n",
       "      <td>IR1</td>\n",
       "      <td>Lvl</td>\n",
       "      <td>AllPub</td>\n",
       "      <td>Inside</td>\n",
       "      <td>Gtl</td>\n",
       "      <td>1Fam</td>\n",
       "      <td>...</td>\n",
       "      <td>0</td>\n",
       "      <td>42</td>\n",
       "      <td>0</td>\n",
       "      <td>0</td>\n",
       "      <td>0</td>\n",
       "      <td>0</td>\n",
       "      <td>0</td>\n",
       "      <td>9</td>\n",
       "      <td>2008</td>\n",
       "      <td>223500</td>\n",
       "    </tr>\n",
       "    <tr>\n",
       "      <th>3</th>\n",
       "      <td>70</td>\n",
       "      <td>RL</td>\n",
       "      <td>9550</td>\n",
       "      <td>Pave</td>\n",
       "      <td>IR1</td>\n",
       "      <td>Lvl</td>\n",
       "      <td>AllPub</td>\n",
       "      <td>Corner</td>\n",
       "      <td>Gtl</td>\n",
       "      <td>1Fam</td>\n",
       "      <td>...</td>\n",
       "      <td>0</td>\n",
       "      <td>35</td>\n",
       "      <td>272</td>\n",
       "      <td>0</td>\n",
       "      <td>0</td>\n",
       "      <td>0</td>\n",
       "      <td>0</td>\n",
       "      <td>2</td>\n",
       "      <td>2006</td>\n",
       "      <td>140000</td>\n",
       "    </tr>\n",
       "    <tr>\n",
       "      <th>4</th>\n",
       "      <td>60</td>\n",
       "      <td>RL</td>\n",
       "      <td>14260</td>\n",
       "      <td>Pave</td>\n",
       "      <td>IR1</td>\n",
       "      <td>Lvl</td>\n",
       "      <td>AllPub</td>\n",
       "      <td>FR2</td>\n",
       "      <td>Gtl</td>\n",
       "      <td>1Fam</td>\n",
       "      <td>...</td>\n",
       "      <td>192</td>\n",
       "      <td>84</td>\n",
       "      <td>0</td>\n",
       "      <td>0</td>\n",
       "      <td>0</td>\n",
       "      <td>0</td>\n",
       "      <td>0</td>\n",
       "      <td>12</td>\n",
       "      <td>2008</td>\n",
       "      <td>250000</td>\n",
       "    </tr>\n",
       "  </tbody>\n",
       "</table>\n",
       "<p>5 rows × 55 columns</p>\n",
       "</div>"
      ],
      "text/plain": [
       "   MSSubClass MSZoning  LotArea Street LotShape LandContour Utilities  \\\n",
       "0          60       RL     8450   Pave      Reg         Lvl    AllPub   \n",
       "1          20       RL     9600   Pave      Reg         Lvl    AllPub   \n",
       "2          60       RL    11250   Pave      IR1         Lvl    AllPub   \n",
       "3          70       RL     9550   Pave      IR1         Lvl    AllPub   \n",
       "4          60       RL    14260   Pave      IR1         Lvl    AllPub   \n",
       "\n",
       "  LotConfig LandSlope BldgType  ...  WoodDeckSF  OpenPorchSF  EnclosedPorch  \\\n",
       "0    Inside       Gtl     1Fam  ...           0           61              0   \n",
       "1       FR2       Gtl     1Fam  ...         298            0              0   \n",
       "2    Inside       Gtl     1Fam  ...           0           42              0   \n",
       "3    Corner       Gtl     1Fam  ...           0           35            272   \n",
       "4       FR2       Gtl     1Fam  ...         192           84              0   \n",
       "\n",
       "   3SsnPorch ScreenPorch  PoolArea MiscVal MoSold YrSold SalePrice  \n",
       "0          0           0         0       0      2   2008    208500  \n",
       "1          0           0         0       0      5   2007    181500  \n",
       "2          0           0         0       0      9   2008    223500  \n",
       "3          0           0         0       0      2   2006    140000  \n",
       "4          0           0         0       0     12   2008    250000  \n",
       "\n",
       "[5 rows x 55 columns]"
      ]
     },
     "execution_count": 11,
     "metadata": {},
     "output_type": "execute_result"
    }
   ],
   "source": [
    "house_clean2.head()"
   ]
  },
  {
   "cell_type": "code",
   "execution_count": 12,
   "metadata": {
    "collapsed": true
   },
   "outputs": [
    {
     "name": "stdout",
     "output_type": "stream",
     "text": [
      "MSZoning //// {'RM', 'FV', 'C (all)', 'RH', 'RL'}\n",
      "Street //// {'Pave', 'Grvl'}\n",
      "LotShape //// {'IR3', 'IR1', 'IR2', 'Reg'}\n",
      "LandContour //// {'Lvl', 'Bnk', 'HLS', 'Low'}\n",
      "Utilities //// {'AllPub', 'NoSeWa'}\n",
      "LotConfig //// {'Inside', 'FR3', 'CulDSac', 'Corner', 'FR2'}\n",
      "LandSlope //// {'Gtl', 'Mod', 'Sev'}\n",
      "BldgType //// {'1Fam', 'TwnhsE', 'Twnhs', 'Duplex', '2fmCon'}\n",
      "MasVnrType //// {nan, 'BrkCmn', 'Stone', 'BrkFace', 'None'}\n",
      "ExterQual //// {'TA', 'Ex', 'Gd', 'Fa'}\n",
      "ExterCond //// {'Ex', 'TA', 'Fa', 'Gd', 'Po'}\n",
      "BsmtQual //// {nan, 'Ex', 'TA', 'Gd', 'Fa'}\n",
      "BsmtCond //// {nan, 'TA', 'Fa', 'Gd', 'Po'}\n",
      "BsmtExposure //// {nan, 'No', 'Av', 'Mn', 'Gd'}\n",
      "HeatingQC //// {'Ex', 'TA', 'Fa', 'Gd', 'Po'}\n",
      "CentralAir //// {'N', 'Y'}\n",
      "BsmtFullBath //// {0, 1, 2, 3}\n",
      "BsmtHalfBath //// {0, 1, 2}\n",
      "FullBath //// {0, 1, 2, 3}\n",
      "HalfBath //// {0, 1, 2}\n",
      "KitchenAbvGr //// {0, 1, 2, 3}\n",
      "KitchenQual //// {'TA', 'Ex', 'Gd', 'Fa'}\n",
      "Fireplaces //// {0, 1, 2, 3}\n",
      "GarageFinish //// {'Fin', nan, 'RFn', 'Unf'}\n",
      "GarageCars //// {0, 1, 2, 3, 4}\n",
      "PavedDrive //// {'N', 'P', 'Y'}\n",
      "YrSold //// {2006, 2007, 2008, 2009, 2010}\n"
     ]
    }
   ],
   "source": [
    "for i in house_clean2.columns:\n",
    "    if len(set(house_clean[i]))<6:\n",
    "        print(f\"{i} //// {set(house_clean[i])}\")"
   ]
  },
  {
   "cell_type": "code",
   "execution_count": 13,
   "metadata": {},
   "outputs": [
    {
     "data": {
      "text/plain": [
       "0.0821917808219178"
      ]
     },
     "execution_count": 13,
     "metadata": {},
     "output_type": "execute_result"
    }
   ],
   "source": [
    "len(house_clean2[house_clean2.isna().any(axis=1)]) / len(house_clean2)\n",
    "# Only 8% of the rows have NaN. I'll drop them."
   ]
  },
  {
   "cell_type": "code",
   "execution_count": 14,
   "metadata": {},
   "outputs": [],
   "source": [
    "house_clean3 = house_clean2.dropna()"
   ]
  },
  {
   "cell_type": "code",
   "execution_count": 15,
   "metadata": {},
   "outputs": [
    {
     "data": {
      "text/plain": [
       "0.0"
      ]
     },
     "execution_count": 15,
     "metadata": {},
     "output_type": "execute_result"
    }
   ],
   "source": [
    "len(house_clean3[house_clean3.isna().any(axis=1)]) / len(house_clean3)"
   ]
  },
  {
   "cell_type": "code",
   "execution_count": 42,
   "metadata": {},
   "outputs": [],
   "source": [
    "def outliers_z(data):\n",
    "    z = np.abs(stats.zscore(data))\n",
    "    data_out = data[(z < 3).all(axis=1)]\n",
    "    return data_out"
   ]
  },
  {
   "cell_type": "code",
   "execution_count": 43,
   "metadata": {},
   "outputs": [],
   "source": [
    "# I'm using two different datasets to test and see if the outliers make that much of a difference\n",
    "house_final = outliers_z(house_clean3)"
   ]
  },
  {
   "cell_type": "code",
   "execution_count": 44,
   "metadata": {},
   "outputs": [
    {
     "name": "stderr",
     "output_type": "stream",
     "text": [
      "/usr/local/lib/python3.7/site-packages/ipykernel_launcher.py:4: SettingWithCopyWarning: \n",
      "A value is trying to be set on a copy of a slice from a DataFrame.\n",
      "Try using .loc[row_indexer,col_indexer] = value instead\n",
      "\n",
      "See the caveats in the documentation: http://pandas.pydata.org/pandas-docs/stable/user_guide/indexing.html#returning-a-view-versus-a-copy\n",
      "  after removing the cwd from sys.path.\n"
     ]
    }
   ],
   "source": [
    "# Encode the categorical values to numerical\n",
    "lb_make = LabelEncoder()\n",
    "for i in house_final.columns:\n",
    "    if np.mean(house_final[i])>10:\n",
    "        house_final[i] = lb_make.fit_transform(house_final[i])"
   ]
  },
  {
   "cell_type": "code",
   "execution_count": 49,
   "metadata": {},
   "outputs": [
    {
     "name": "stderr",
     "output_type": "stream",
     "text": [
      "/usr/local/lib/python3.7/site-packages/ipykernel_launcher.py:3: SettingWithCopyWarning: \n",
      "A value is trying to be set on a copy of a slice from a DataFrame.\n",
      "Try using .loc[row_indexer,col_indexer] = value instead\n",
      "\n",
      "See the caveats in the documentation: http://pandas.pydata.org/pandas-docs/stable/user_guide/indexing.html#returning-a-view-versus-a-copy\n",
      "  This is separate from the ipykernel package so we can avoid doing imports until\n"
     ]
    }
   ],
   "source": [
    "# Encode the categorical values to numerical\n",
    "for i in house_clean3.columns:\n",
    "    if np.mean(house_clean3[i])>10:\n",
    "        house_clean3[i] = lb_make.fit_transform(house_clean3[i])"
   ]
  },
  {
   "cell_type": "code",
   "execution_count": 45,
   "metadata": {},
   "outputs": [
    {
     "data": {
      "text/html": [
       "<div>\n",
       "<style scoped>\n",
       "    .dataframe tbody tr th:only-of-type {\n",
       "        vertical-align: middle;\n",
       "    }\n",
       "\n",
       "    .dataframe tbody tr th {\n",
       "        vertical-align: top;\n",
       "    }\n",
       "\n",
       "    .dataframe thead th {\n",
       "        text-align: right;\n",
       "    }\n",
       "</style>\n",
       "<table border=\"1\" class=\"dataframe\">\n",
       "  <thead>\n",
       "    <tr style=\"text-align: right;\">\n",
       "      <th></th>\n",
       "      <th>MSSubClass</th>\n",
       "      <th>MSZoning</th>\n",
       "      <th>LotArea</th>\n",
       "      <th>Street</th>\n",
       "      <th>LotShape</th>\n",
       "      <th>LandContour</th>\n",
       "      <th>Utilities</th>\n",
       "      <th>LotConfig</th>\n",
       "      <th>LandSlope</th>\n",
       "      <th>BldgType</th>\n",
       "      <th>...</th>\n",
       "      <th>WoodDeckSF</th>\n",
       "      <th>OpenPorchSF</th>\n",
       "      <th>EnclosedPorch</th>\n",
       "      <th>3SsnPorch</th>\n",
       "      <th>ScreenPorch</th>\n",
       "      <th>PoolArea</th>\n",
       "      <th>MiscVal</th>\n",
       "      <th>MoSold</th>\n",
       "      <th>YrSold</th>\n",
       "      <th>SalePrice</th>\n",
       "    </tr>\n",
       "  </thead>\n",
       "  <tbody>\n",
       "    <tr>\n",
       "      <th>0</th>\n",
       "      <td>5</td>\n",
       "      <td>3</td>\n",
       "      <td>186</td>\n",
       "      <td>1</td>\n",
       "      <td>3</td>\n",
       "      <td>3</td>\n",
       "      <td>0</td>\n",
       "      <td>4</td>\n",
       "      <td>0</td>\n",
       "      <td>0</td>\n",
       "      <td>...</td>\n",
       "      <td>0</td>\n",
       "      <td>42</td>\n",
       "      <td>0</td>\n",
       "      <td>0</td>\n",
       "      <td>0</td>\n",
       "      <td>0</td>\n",
       "      <td>0</td>\n",
       "      <td>2</td>\n",
       "      <td>2</td>\n",
       "      <td>260</td>\n",
       "    </tr>\n",
       "    <tr>\n",
       "      <th>2</th>\n",
       "      <td>5</td>\n",
       "      <td>3</td>\n",
       "      <td>434</td>\n",
       "      <td>1</td>\n",
       "      <td>0</td>\n",
       "      <td>3</td>\n",
       "      <td>0</td>\n",
       "      <td>4</td>\n",
       "      <td>0</td>\n",
       "      <td>0</td>\n",
       "      <td>...</td>\n",
       "      <td>0</td>\n",
       "      <td>24</td>\n",
       "      <td>0</td>\n",
       "      <td>0</td>\n",
       "      <td>0</td>\n",
       "      <td>0</td>\n",
       "      <td>0</td>\n",
       "      <td>9</td>\n",
       "      <td>2</td>\n",
       "      <td>282</td>\n",
       "    </tr>\n",
       "    <tr>\n",
       "      <th>4</th>\n",
       "      <td>5</td>\n",
       "      <td>3</td>\n",
       "      <td>553</td>\n",
       "      <td>1</td>\n",
       "      <td>0</td>\n",
       "      <td>3</td>\n",
       "      <td>0</td>\n",
       "      <td>2</td>\n",
       "      <td>0</td>\n",
       "      <td>0</td>\n",
       "      <td>...</td>\n",
       "      <td>78</td>\n",
       "      <td>61</td>\n",
       "      <td>0</td>\n",
       "      <td>0</td>\n",
       "      <td>0</td>\n",
       "      <td>0</td>\n",
       "      <td>0</td>\n",
       "      <td>12</td>\n",
       "      <td>2</td>\n",
       "      <td>321</td>\n",
       "    </tr>\n",
       "    <tr>\n",
       "      <th>6</th>\n",
       "      <td>0</td>\n",
       "      <td>3</td>\n",
       "      <td>339</td>\n",
       "      <td>1</td>\n",
       "      <td>3</td>\n",
       "      <td>3</td>\n",
       "      <td>0</td>\n",
       "      <td>4</td>\n",
       "      <td>0</td>\n",
       "      <td>0</td>\n",
       "      <td>...</td>\n",
       "      <td>113</td>\n",
       "      <td>38</td>\n",
       "      <td>0</td>\n",
       "      <td>0</td>\n",
       "      <td>0</td>\n",
       "      <td>0</td>\n",
       "      <td>0</td>\n",
       "      <td>8</td>\n",
       "      <td>1</td>\n",
       "      <td>371</td>\n",
       "    </tr>\n",
       "    <tr>\n",
       "      <th>10</th>\n",
       "      <td>0</td>\n",
       "      <td>3</td>\n",
       "      <td>426</td>\n",
       "      <td>1</td>\n",
       "      <td>3</td>\n",
       "      <td>3</td>\n",
       "      <td>0</td>\n",
       "      <td>4</td>\n",
       "      <td>0</td>\n",
       "      <td>0</td>\n",
       "      <td>...</td>\n",
       "      <td>0</td>\n",
       "      <td>0</td>\n",
       "      <td>0</td>\n",
       "      <td>0</td>\n",
       "      <td>0</td>\n",
       "      <td>0</td>\n",
       "      <td>0</td>\n",
       "      <td>2</td>\n",
       "      <td>2</td>\n",
       "      <td>66</td>\n",
       "    </tr>\n",
       "    <tr>\n",
       "      <th>...</th>\n",
       "      <td>...</td>\n",
       "      <td>...</td>\n",
       "      <td>...</td>\n",
       "      <td>...</td>\n",
       "      <td>...</td>\n",
       "      <td>...</td>\n",
       "      <td>...</td>\n",
       "      <td>...</td>\n",
       "      <td>...</td>\n",
       "      <td>...</td>\n",
       "      <td>...</td>\n",
       "      <td>...</td>\n",
       "      <td>...</td>\n",
       "      <td>...</td>\n",
       "      <td>...</td>\n",
       "      <td>...</td>\n",
       "      <td>...</td>\n",
       "      <td>...</td>\n",
       "      <td>...</td>\n",
       "      <td>...</td>\n",
       "      <td>...</td>\n",
       "    </tr>\n",
       "    <tr>\n",
       "      <th>1446</th>\n",
       "      <td>0</td>\n",
       "      <td>3</td>\n",
       "      <td>600</td>\n",
       "      <td>1</td>\n",
       "      <td>0</td>\n",
       "      <td>3</td>\n",
       "      <td>0</td>\n",
       "      <td>1</td>\n",
       "      <td>0</td>\n",
       "      <td>0</td>\n",
       "      <td>...</td>\n",
       "      <td>116</td>\n",
       "      <td>22</td>\n",
       "      <td>0</td>\n",
       "      <td>0</td>\n",
       "      <td>0</td>\n",
       "      <td>0</td>\n",
       "      <td>0</td>\n",
       "      <td>4</td>\n",
       "      <td>4</td>\n",
       "      <td>139</td>\n",
       "    </tr>\n",
       "    <tr>\n",
       "      <th>1447</th>\n",
       "      <td>5</td>\n",
       "      <td>3</td>\n",
       "      <td>333</td>\n",
       "      <td>1</td>\n",
       "      <td>3</td>\n",
       "      <td>3</td>\n",
       "      <td>0</td>\n",
       "      <td>4</td>\n",
       "      <td>0</td>\n",
       "      <td>0</td>\n",
       "      <td>...</td>\n",
       "      <td>0</td>\n",
       "      <td>46</td>\n",
       "      <td>0</td>\n",
       "      <td>0</td>\n",
       "      <td>0</td>\n",
       "      <td>0</td>\n",
       "      <td>0</td>\n",
       "      <td>12</td>\n",
       "      <td>1</td>\n",
       "      <td>310</td>\n",
       "    </tr>\n",
       "    <tr>\n",
       "      <th>1451</th>\n",
       "      <td>0</td>\n",
       "      <td>3</td>\n",
       "      <td>268</td>\n",
       "      <td>1</td>\n",
       "      <td>3</td>\n",
       "      <td>3</td>\n",
       "      <td>0</td>\n",
       "      <td>4</td>\n",
       "      <td>0</td>\n",
       "      <td>0</td>\n",
       "      <td>...</td>\n",
       "      <td>0</td>\n",
       "      <td>20</td>\n",
       "      <td>0</td>\n",
       "      <td>0</td>\n",
       "      <td>0</td>\n",
       "      <td>0</td>\n",
       "      <td>0</td>\n",
       "      <td>5</td>\n",
       "      <td>3</td>\n",
       "      <td>361</td>\n",
       "    </tr>\n",
       "    <tr>\n",
       "      <th>1455</th>\n",
       "      <td>5</td>\n",
       "      <td>3</td>\n",
       "      <td>149</td>\n",
       "      <td>1</td>\n",
       "      <td>3</td>\n",
       "      <td>3</td>\n",
       "      <td>0</td>\n",
       "      <td>4</td>\n",
       "      <td>0</td>\n",
       "      <td>0</td>\n",
       "      <td>...</td>\n",
       "      <td>0</td>\n",
       "      <td>23</td>\n",
       "      <td>0</td>\n",
       "      <td>0</td>\n",
       "      <td>0</td>\n",
       "      <td>0</td>\n",
       "      <td>0</td>\n",
       "      <td>8</td>\n",
       "      <td>1</td>\n",
       "      <td>182</td>\n",
       "    </tr>\n",
       "    <tr>\n",
       "      <th>1456</th>\n",
       "      <td>0</td>\n",
       "      <td>3</td>\n",
       "      <td>521</td>\n",
       "      <td>1</td>\n",
       "      <td>3</td>\n",
       "      <td>3</td>\n",
       "      <td>0</td>\n",
       "      <td>4</td>\n",
       "      <td>0</td>\n",
       "      <td>0</td>\n",
       "      <td>...</td>\n",
       "      <td>143</td>\n",
       "      <td>0</td>\n",
       "      <td>0</td>\n",
       "      <td>0</td>\n",
       "      <td>0</td>\n",
       "      <td>0</td>\n",
       "      <td>0</td>\n",
       "      <td>2</td>\n",
       "      <td>4</td>\n",
       "      <td>262</td>\n",
       "    </tr>\n",
       "  </tbody>\n",
       "</table>\n",
       "<p>751 rows × 55 columns</p>\n",
       "</div>"
      ],
      "text/plain": [
       "      MSSubClass  MSZoning  LotArea  Street  LotShape  LandContour  Utilities  \\\n",
       "0              5         3      186       1         3            3          0   \n",
       "2              5         3      434       1         0            3          0   \n",
       "4              5         3      553       1         0            3          0   \n",
       "6              0         3      339       1         3            3          0   \n",
       "10             0         3      426       1         3            3          0   \n",
       "...          ...       ...      ...     ...       ...          ...        ...   \n",
       "1446           0         3      600       1         0            3          0   \n",
       "1447           5         3      333       1         3            3          0   \n",
       "1451           0         3      268       1         3            3          0   \n",
       "1455           5         3      149       1         3            3          0   \n",
       "1456           0         3      521       1         3            3          0   \n",
       "\n",
       "      LotConfig  LandSlope  BldgType  ...  WoodDeckSF  OpenPorchSF  \\\n",
       "0             4          0         0  ...           0           42   \n",
       "2             4          0         0  ...           0           24   \n",
       "4             2          0         0  ...          78           61   \n",
       "6             4          0         0  ...         113           38   \n",
       "10            4          0         0  ...           0            0   \n",
       "...         ...        ...       ...  ...         ...          ...   \n",
       "1446          1          0         0  ...         116           22   \n",
       "1447          4          0         0  ...           0           46   \n",
       "1451          4          0         0  ...           0           20   \n",
       "1455          4          0         0  ...           0           23   \n",
       "1456          4          0         0  ...         143            0   \n",
       "\n",
       "      EnclosedPorch  3SsnPorch  ScreenPorch  PoolArea  MiscVal  MoSold  \\\n",
       "0                 0          0            0         0        0       2   \n",
       "2                 0          0            0         0        0       9   \n",
       "4                 0          0            0         0        0      12   \n",
       "6                 0          0            0         0        0       8   \n",
       "10                0          0            0         0        0       2   \n",
       "...             ...        ...          ...       ...      ...     ...   \n",
       "1446              0          0            0         0        0       4   \n",
       "1447              0          0            0         0        0      12   \n",
       "1451              0          0            0         0        0       5   \n",
       "1455              0          0            0         0        0       8   \n",
       "1456              0          0            0         0        0       2   \n",
       "\n",
       "      YrSold  SalePrice  \n",
       "0          2        260  \n",
       "2          2        282  \n",
       "4          2        321  \n",
       "6          1        371  \n",
       "10         2         66  \n",
       "...      ...        ...  \n",
       "1446       4        139  \n",
       "1447       1        310  \n",
       "1451       3        361  \n",
       "1455       1        182  \n",
       "1456       4        262  \n",
       "\n",
       "[751 rows x 55 columns]"
      ]
     },
     "execution_count": 45,
     "metadata": {},
     "output_type": "execute_result"
    }
   ],
   "source": [
    "house_final"
   ]
  },
  {
   "cell_type": "markdown",
   "metadata": {},
   "source": [
    "scaler = MinMaxScaler(feature_range=(0,10))\n",
    "for i in house_clean3.columns:\n",
    "    if np.mean(house_clean3[i]) > 10:\n",
    "        house_clean3[i] = scaler.fit_transform(house_clean3[i].values.reshape(-1, 1)y)"
   ]
  },
  {
   "cell_type": "code",
   "execution_count": 46,
   "metadata": {},
   "outputs": [
    {
     "data": {
      "text/html": [
       "<div>\n",
       "<style scoped>\n",
       "    .dataframe tbody tr th:only-of-type {\n",
       "        vertical-align: middle;\n",
       "    }\n",
       "\n",
       "    .dataframe tbody tr th {\n",
       "        vertical-align: top;\n",
       "    }\n",
       "\n",
       "    .dataframe thead th {\n",
       "        text-align: right;\n",
       "    }\n",
       "</style>\n",
       "<table border=\"1\" class=\"dataframe\">\n",
       "  <thead>\n",
       "    <tr style=\"text-align: right;\">\n",
       "      <th></th>\n",
       "      <th>MSSubClass</th>\n",
       "      <th>MSZoning</th>\n",
       "      <th>LotArea</th>\n",
       "      <th>Street</th>\n",
       "      <th>LotShape</th>\n",
       "      <th>LandContour</th>\n",
       "      <th>Utilities</th>\n",
       "      <th>LotConfig</th>\n",
       "      <th>LandSlope</th>\n",
       "      <th>BldgType</th>\n",
       "      <th>...</th>\n",
       "      <th>WoodDeckSF</th>\n",
       "      <th>OpenPorchSF</th>\n",
       "      <th>EnclosedPorch</th>\n",
       "      <th>3SsnPorch</th>\n",
       "      <th>ScreenPorch</th>\n",
       "      <th>PoolArea</th>\n",
       "      <th>MiscVal</th>\n",
       "      <th>MoSold</th>\n",
       "      <th>YrSold</th>\n",
       "      <th>SalePrice</th>\n",
       "    </tr>\n",
       "  </thead>\n",
       "  <tbody>\n",
       "    <tr>\n",
       "      <th>count</th>\n",
       "      <td>751.000000</td>\n",
       "      <td>751.000000</td>\n",
       "      <td>751.000000</td>\n",
       "      <td>751.0</td>\n",
       "      <td>751.000000</td>\n",
       "      <td>751.000000</td>\n",
       "      <td>751.0</td>\n",
       "      <td>751.000000</td>\n",
       "      <td>751.0</td>\n",
       "      <td>751.000000</td>\n",
       "      <td>...</td>\n",
       "      <td>751.000000</td>\n",
       "      <td>751.000000</td>\n",
       "      <td>751.000000</td>\n",
       "      <td>751.000000</td>\n",
       "      <td>751.000000</td>\n",
       "      <td>751.0</td>\n",
       "      <td>751.000000</td>\n",
       "      <td>751.000000</td>\n",
       "      <td>751.000000</td>\n",
       "      <td>751.000000</td>\n",
       "    </tr>\n",
       "    <tr>\n",
       "      <th>mean</th>\n",
       "      <td>3.707057</td>\n",
       "      <td>3.111851</td>\n",
       "      <td>281.307590</td>\n",
       "      <td>1.0</td>\n",
       "      <td>1.842876</td>\n",
       "      <td>2.941411</td>\n",
       "      <td>0.0</td>\n",
       "      <td>2.994674</td>\n",
       "      <td>0.0</td>\n",
       "      <td>0.463382</td>\n",
       "      <td>...</td>\n",
       "      <td>35.972037</td>\n",
       "      <td>26.027963</td>\n",
       "      <td>2.296937</td>\n",
       "      <td>0.030626</td>\n",
       "      <td>7.138482</td>\n",
       "      <td>0.0</td>\n",
       "      <td>0.071904</td>\n",
       "      <td>6.298269</td>\n",
       "      <td>1.822903</td>\n",
       "      <td>178.123835</td>\n",
       "    </tr>\n",
       "    <tr>\n",
       "      <th>std</th>\n",
       "      <td>3.949270</td>\n",
       "      <td>0.331873</td>\n",
       "      <td>172.885719</td>\n",
       "      <td>0.0</td>\n",
       "      <td>1.443819</td>\n",
       "      <td>0.333511</td>\n",
       "      <td>0.0</td>\n",
       "      <td>1.628078</td>\n",
       "      <td>0.0</td>\n",
       "      <td>1.234365</td>\n",
       "      <td>...</td>\n",
       "      <td>44.273460</td>\n",
       "      <td>33.130900</td>\n",
       "      <td>8.402760</td>\n",
       "      <td>0.839282</td>\n",
       "      <td>32.164900</td>\n",
       "      <td>0.0</td>\n",
       "      <td>0.551504</td>\n",
       "      <td>2.649576</td>\n",
       "      <td>1.350282</td>\n",
       "      <td>107.817967</td>\n",
       "    </tr>\n",
       "    <tr>\n",
       "      <th>min</th>\n",
       "      <td>0.000000</td>\n",
       "      <td>2.000000</td>\n",
       "      <td>0.000000</td>\n",
       "      <td>1.0</td>\n",
       "      <td>0.000000</td>\n",
       "      <td>1.000000</td>\n",
       "      <td>0.0</td>\n",
       "      <td>0.000000</td>\n",
       "      <td>0.0</td>\n",
       "      <td>0.000000</td>\n",
       "      <td>...</td>\n",
       "      <td>0.000000</td>\n",
       "      <td>0.000000</td>\n",
       "      <td>0.000000</td>\n",
       "      <td>0.000000</td>\n",
       "      <td>0.000000</td>\n",
       "      <td>0.0</td>\n",
       "      <td>0.000000</td>\n",
       "      <td>1.000000</td>\n",
       "      <td>0.000000</td>\n",
       "      <td>0.000000</td>\n",
       "    </tr>\n",
       "    <tr>\n",
       "      <th>25%</th>\n",
       "      <td>0.000000</td>\n",
       "      <td>3.000000</td>\n",
       "      <td>131.500000</td>\n",
       "      <td>1.0</td>\n",
       "      <td>0.000000</td>\n",
       "      <td>3.000000</td>\n",
       "      <td>0.0</td>\n",
       "      <td>1.500000</td>\n",
       "      <td>0.0</td>\n",
       "      <td>0.000000</td>\n",
       "      <td>...</td>\n",
       "      <td>0.000000</td>\n",
       "      <td>0.000000</td>\n",
       "      <td>0.000000</td>\n",
       "      <td>0.000000</td>\n",
       "      <td>0.000000</td>\n",
       "      <td>0.0</td>\n",
       "      <td>0.000000</td>\n",
       "      <td>5.000000</td>\n",
       "      <td>1.000000</td>\n",
       "      <td>85.500000</td>\n",
       "    </tr>\n",
       "    <tr>\n",
       "      <th>50%</th>\n",
       "      <td>4.000000</td>\n",
       "      <td>3.000000</td>\n",
       "      <td>275.000000</td>\n",
       "      <td>1.0</td>\n",
       "      <td>3.000000</td>\n",
       "      <td>3.000000</td>\n",
       "      <td>0.0</td>\n",
       "      <td>4.000000</td>\n",
       "      <td>0.0</td>\n",
       "      <td>0.000000</td>\n",
       "      <td>...</td>\n",
       "      <td>20.000000</td>\n",
       "      <td>12.000000</td>\n",
       "      <td>0.000000</td>\n",
       "      <td>0.000000</td>\n",
       "      <td>0.000000</td>\n",
       "      <td>0.0</td>\n",
       "      <td>0.000000</td>\n",
       "      <td>6.000000</td>\n",
       "      <td>2.000000</td>\n",
       "      <td>171.000000</td>\n",
       "    </tr>\n",
       "    <tr>\n",
       "      <th>75%</th>\n",
       "      <td>5.000000</td>\n",
       "      <td>3.000000</td>\n",
       "      <td>426.500000</td>\n",
       "      <td>1.0</td>\n",
       "      <td>3.000000</td>\n",
       "      <td>3.000000</td>\n",
       "      <td>0.0</td>\n",
       "      <td>4.000000</td>\n",
       "      <td>0.0</td>\n",
       "      <td>0.000000</td>\n",
       "      <td>...</td>\n",
       "      <td>61.000000</td>\n",
       "      <td>43.500000</td>\n",
       "      <td>0.000000</td>\n",
       "      <td>0.000000</td>\n",
       "      <td>0.000000</td>\n",
       "      <td>0.0</td>\n",
       "      <td>0.000000</td>\n",
       "      <td>8.000000</td>\n",
       "      <td>3.000000</td>\n",
       "      <td>268.000000</td>\n",
       "    </tr>\n",
       "    <tr>\n",
       "      <th>max</th>\n",
       "      <td>12.000000</td>\n",
       "      <td>4.000000</td>\n",
       "      <td>602.000000</td>\n",
       "      <td>1.0</td>\n",
       "      <td>3.000000</td>\n",
       "      <td>3.000000</td>\n",
       "      <td>0.0</td>\n",
       "      <td>4.000000</td>\n",
       "      <td>0.0</td>\n",
       "      <td>4.000000</td>\n",
       "      <td>...</td>\n",
       "      <td>165.000000</td>\n",
       "      <td>129.000000</td>\n",
       "      <td>49.000000</td>\n",
       "      <td>23.000000</td>\n",
       "      <td>189.000000</td>\n",
       "      <td>0.0</td>\n",
       "      <td>7.000000</td>\n",
       "      <td>12.000000</td>\n",
       "      <td>4.000000</td>\n",
       "      <td>397.000000</td>\n",
       "    </tr>\n",
       "  </tbody>\n",
       "</table>\n",
       "<p>8 rows × 55 columns</p>\n",
       "</div>"
      ],
      "text/plain": [
       "       MSSubClass    MSZoning     LotArea  Street    LotShape  LandContour  \\\n",
       "count  751.000000  751.000000  751.000000   751.0  751.000000   751.000000   \n",
       "mean     3.707057    3.111851  281.307590     1.0    1.842876     2.941411   \n",
       "std      3.949270    0.331873  172.885719     0.0    1.443819     0.333511   \n",
       "min      0.000000    2.000000    0.000000     1.0    0.000000     1.000000   \n",
       "25%      0.000000    3.000000  131.500000     1.0    0.000000     3.000000   \n",
       "50%      4.000000    3.000000  275.000000     1.0    3.000000     3.000000   \n",
       "75%      5.000000    3.000000  426.500000     1.0    3.000000     3.000000   \n",
       "max     12.000000    4.000000  602.000000     1.0    3.000000     3.000000   \n",
       "\n",
       "       Utilities   LotConfig  LandSlope    BldgType  ...  WoodDeckSF  \\\n",
       "count      751.0  751.000000      751.0  751.000000  ...  751.000000   \n",
       "mean         0.0    2.994674        0.0    0.463382  ...   35.972037   \n",
       "std          0.0    1.628078        0.0    1.234365  ...   44.273460   \n",
       "min          0.0    0.000000        0.0    0.000000  ...    0.000000   \n",
       "25%          0.0    1.500000        0.0    0.000000  ...    0.000000   \n",
       "50%          0.0    4.000000        0.0    0.000000  ...   20.000000   \n",
       "75%          0.0    4.000000        0.0    0.000000  ...   61.000000   \n",
       "max          0.0    4.000000        0.0    4.000000  ...  165.000000   \n",
       "\n",
       "       OpenPorchSF  EnclosedPorch   3SsnPorch  ScreenPorch  PoolArea  \\\n",
       "count   751.000000     751.000000  751.000000   751.000000     751.0   \n",
       "mean     26.027963       2.296937    0.030626     7.138482       0.0   \n",
       "std      33.130900       8.402760    0.839282    32.164900       0.0   \n",
       "min       0.000000       0.000000    0.000000     0.000000       0.0   \n",
       "25%       0.000000       0.000000    0.000000     0.000000       0.0   \n",
       "50%      12.000000       0.000000    0.000000     0.000000       0.0   \n",
       "75%      43.500000       0.000000    0.000000     0.000000       0.0   \n",
       "max     129.000000      49.000000   23.000000   189.000000       0.0   \n",
       "\n",
       "          MiscVal      MoSold      YrSold   SalePrice  \n",
       "count  751.000000  751.000000  751.000000  751.000000  \n",
       "mean     0.071904    6.298269    1.822903  178.123835  \n",
       "std      0.551504    2.649576    1.350282  107.817967  \n",
       "min      0.000000    1.000000    0.000000    0.000000  \n",
       "25%      0.000000    5.000000    1.000000   85.500000  \n",
       "50%      0.000000    6.000000    2.000000  171.000000  \n",
       "75%      0.000000    8.000000    3.000000  268.000000  \n",
       "max      7.000000   12.000000    4.000000  397.000000  \n",
       "\n",
       "[8 rows x 55 columns]"
      ]
     },
     "execution_count": 46,
     "metadata": {},
     "output_type": "execute_result"
    }
   ],
   "source": [
    "house_final.describe()"
   ]
  },
  {
   "cell_type": "markdown",
   "metadata": {},
   "source": [
    "# Using the house_final data\n",
    "This data includes the outliers and is more complete although the scores are lower"
   ]
  },
  {
   "cell_type": "code",
   "execution_count": 50,
   "metadata": {},
   "outputs": [],
   "source": [
    "X = house_clean3.drop(columns=['SalePrice'])\n",
    "y = house_clean3['SalePrice']\n",
    "\n",
    "# divide train test\n",
    "X_train, X_test, y_train, y_test = train_test_split(X, y, test_size = 0.2, random_state=13)"
   ]
  },
  {
   "cell_type": "code",
   "execution_count": null,
   "metadata": {},
   "outputs": [],
   "source": []
  },
  {
   "cell_type": "code",
   "execution_count": 48,
   "metadata": {},
   "outputs": [
    {
     "data": {
      "text/plain": [
       "0.8323714202895727"
      ]
     },
     "execution_count": 48,
     "metadata": {},
     "output_type": "execute_result"
    }
   ],
   "source": [
    "# Simple Linear Regression model\n",
    "regr = LinearRegression()\n",
    "model = regr.fit(X_train, y_train)\n",
    "\n",
    "model.score(X_test, y_test)"
   ]
  },
  {
   "cell_type": "code",
   "execution_count": 21,
   "metadata": {},
   "outputs": [
    {
     "name": "stdout",
     "output_type": "stream",
     "text": [
      "1 0.8324779267638921\n",
      "2 -11.023993253288994\n",
      "3 -3.4727974122523566\n"
     ]
    }
   ],
   "source": [
    "# Polynomial model\n",
    "for k in range(1,4):\n",
    "    poly_model = make_pipeline (StandardScaler(), PolynomialFeatures(k), LinearRegression())\n",
    "    model2 = poly_model.fit(X_train, y_train)\n",
    "\n",
    "    print(k, poly_model.score(X_test, y_test))"
   ]
  },
  {
   "cell_type": "code",
   "execution_count": 22,
   "metadata": {},
   "outputs": [
    {
     "data": {
      "text/plain": [
       "0.7210200025492657"
      ]
     },
     "execution_count": 22,
     "metadata": {},
     "output_type": "execute_result"
    }
   ],
   "source": [
    "# Decision Tree model\n",
    "regr2 = DecisionTreeRegressor(random_state = 13)\n",
    "\n",
    "model3 = regr2.fit(X_train, y_train)\n",
    "\n",
    "regr2.score(X_test, y_test)"
   ]
  },
  {
   "cell_type": "code",
   "execution_count": 23,
   "metadata": {},
   "outputs": [
    {
     "name": "stdout",
     "output_type": "stream",
     "text": [
      "1 0.5389700556158278\n",
      "2 0.6214691812659408\n",
      "3 0.651611926073848\n",
      "4 0.6678085867809576\n",
      "5 0.6672864231650107\n",
      "6 0.6665942387145387\n",
      "7 0.6574378570097043\n",
      "8 0.639688394802408\n"
     ]
    }
   ],
   "source": [
    "# KNeighborsRegressor model\n",
    "for k in range(1,9):\n",
    "    knnr = KNeighborsRegressor(n_neighbors = k)\n",
    "    model4 = knnr.fit(X_train, y_train)\n",
    "    print(k, model4.score(X_test, y_test))"
   ]
  },
  {
   "cell_type": "markdown",
   "metadata": {},
   "source": [
    "# Using the house_final data\n",
    "This data excludes the outliers but removes some features such as the existance of pools which is an important feature to the price."
   ]
  },
  {
   "cell_type": "code",
   "execution_count": 51,
   "metadata": {},
   "outputs": [],
   "source": [
    "X = house_final.drop(columns=['SalePrice'])\n",
    "y = house_final['SalePrice']\n",
    "\n",
    "# divide train test\n",
    "X_train, X_test, y_train, y_test = train_test_split(X, y, test_size = 0.2, random_state=13)"
   ]
  },
  {
   "cell_type": "code",
   "execution_count": 52,
   "metadata": {},
   "outputs": [
    {
     "data": {
      "text/plain": [
       "0.9294296864372703"
      ]
     },
     "execution_count": 52,
     "metadata": {},
     "output_type": "execute_result"
    }
   ],
   "source": [
    "# Simple Linear Regression model\n",
    "regr = LinearRegression()\n",
    "model = regr.fit(X_train, y_train)\n",
    "\n",
    "model.score(X_test, y_test)"
   ]
  },
  {
   "cell_type": "code",
   "execution_count": 53,
   "metadata": {},
   "outputs": [
    {
     "name": "stdout",
     "output_type": "stream",
     "text": [
      "1 0.9294296864372683\n",
      "2 0.44779842805445946\n",
      "3 0.8385921522097797\n"
     ]
    }
   ],
   "source": [
    "# Polynomial model\n",
    "for k in range(1,4):\n",
    "    poly_model = make_pipeline (StandardScaler(), PolynomialFeatures(k), LinearRegression())\n",
    "    model2 = poly_model.fit(X_train, y_train)\n",
    "\n",
    "    print(k, poly_model.score(X_test, y_test))"
   ]
  },
  {
   "cell_type": "code",
   "execution_count": 55,
   "metadata": {},
   "outputs": [
    {
     "data": {
      "text/plain": [
       "0.7174599773920229"
      ]
     },
     "execution_count": 55,
     "metadata": {},
     "output_type": "execute_result"
    }
   ],
   "source": [
    "# Decision Tree model\n",
    "regr2 = DecisionTreeRegressor(random_state = 13)\n",
    "\n",
    "model3 = regr2.fit(X_train, y_train)\n",
    "\n",
    "regr2.score(X_test, y_test)"
   ]
  },
  {
   "cell_type": "code",
   "execution_count": 54,
   "metadata": {},
   "outputs": [
    {
     "name": "stdout",
     "output_type": "stream",
     "text": [
      "1 0.6923054330683349\n",
      "2 0.7661202591751385\n",
      "3 0.8017005712185548\n",
      "4 0.8254631800646975\n",
      "5 0.8320632657468604\n",
      "6 0.8352190359111544\n",
      "7 0.8336026443316213\n",
      "8 0.8336559040545255\n"
     ]
    }
   ],
   "source": [
    "# KNeighborsRegressor model\n",
    "for k in range(1,9):\n",
    "    knnr = KNeighborsRegressor(n_neighbors = k)\n",
    "    model4 = knnr.fit(X_train, y_train)\n",
    "    print(k, model4.score(X_test, y_test))"
   ]
  },
  {
   "cell_type": "markdown",
   "metadata": {},
   "source": [
    " ## Overall the best model is the Linear Regression using the house_final data. I would go with this although it doesn't include the outliers if I want to evaluate the average houses. The score is good (0.92943) so I think it's a good model"
   ]
  },
  {
   "cell_type": "code",
   "execution_count": null,
   "metadata": {},
   "outputs": [],
   "source": []
  }
 ],
 "metadata": {
  "colab": {
   "collapsed_sections": [],
   "name": "MLtechInterview.ipynb",
   "provenance": []
  },
  "kernelspec": {
   "display_name": "Python 3",
   "language": "python",
   "name": "python3"
  },
  "language_info": {
   "codemirror_mode": {
    "name": "ipython",
    "version": 3
   },
   "file_extension": ".py",
   "mimetype": "text/x-python",
   "name": "python",
   "nbconvert_exporter": "python",
   "pygments_lexer": "ipython3",
   "version": "3.7.4"
  }
 },
 "nbformat": 4,
 "nbformat_minor": 1
}
